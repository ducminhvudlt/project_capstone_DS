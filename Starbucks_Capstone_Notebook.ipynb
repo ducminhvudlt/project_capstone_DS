{
 "cells": [
  {
   "cell_type": "markdown",
   "metadata": {},
   "source": [
    "# Starbucks Capstone Challenge\n",
    "\n",
    "### Introduction\n",
    "\n",
    "This data set contains simulated data that mimics customer behavior on the Starbucks rewards mobile app. Once every few days, Starbucks sends out an offer to users of the mobile app. An offer can be merely an advertisement for a drink or an actual offer such as a discount or BOGO (buy one get one free). Some users might not receive any offer during certain weeks. \n",
    "\n",
    "Not all users receive the same offer, and that is the challenge to solve with this data set.\n",
    "\n",
    "Your task is to combine transaction, demographic and offer data to determine which demographic groups respond best to which offer type. This data set is a simplified version of the real Starbucks app because the underlying simulator only has one product whereas Starbucks actually sells dozens of products.\n",
    "\n",
    "Every offer has a validity period before the offer expires. As an example, a BOGO offer might be valid for only 5 days. You'll see in the data set that informational offers have a validity period even though these ads are merely providing information about a product; for example, if an informational offer has 7 days of validity, you can assume the customer is feeling the influence of the offer for 7 days after receiving the advertisement.\n",
    "\n",
    "You'll be given transactional data showing user purchases made on the app including the timestamp of purchase and the amount of money spent on a purchase. This transactional data also has a record for each offer that a user receives as well as a record for when a user actually views the offer. There are also records for when a user completes an offer. \n",
    "\n",
    "Keep in mind as well that someone using the app might make a purchase through the app without having received an offer or seen an offer.\n",
    "\n",
    "### Example\n",
    "\n",
    "To give an example, a user could receive a discount offer buy 10 dollars get 2 off on Monday. The offer is valid for 10 days from receipt. If the customer accumulates at least 10 dollars in purchases during the validity period, the customer completes the offer.\n",
    "\n",
    "However, there are a few things to watch out for in this data set. Customers do not opt into the offers that they receive; in other words, a user can receive an offer, never actually view the offer, and still complete the offer. For example, a user might receive the \"buy 10 dollars get 2 dollars off offer\", but the user never opens the offer during the 10 day validity period. The customer spends 15 dollars during those ten days. There will be an offer completion record in the data set; however, the customer was not influenced by the offer because the customer never viewed the offer.\n",
    "\n",
    "### Cleaning\n",
    "\n",
    "This makes data cleaning especially important and tricky.\n",
    "\n",
    "You'll also want to take into account that some demographic groups will make purchases even if they don't receive an offer. From a business perspective, if a customer is going to make a 10 dollar purchase without an offer anyway, you wouldn't want to send a buy 10 dollars get 2 dollars off offer. You'll want to try to assess what a certain demographic group will buy when not receiving any offers.\n",
    "\n",
    "### Final Advice\n",
    "\n",
    "Because this is a capstone project, you are free to analyze the data any way you see fit. For example, you could build a machine learning model that predicts how much someone will spend based on demographics and offer type. Or you could build a model that predicts whether or not someone will respond to an offer. Or, you don't need to build a machine learning model at all. You could develop a set of heuristics that determine what offer you should send to each customer."
   ]
  },
  {
   "cell_type": "markdown",
   "metadata": {},
   "source": [
    "# Data Sets\n",
    "\n",
    "The data is contained in three files:\n",
    "\n",
    "* portfolio.json - Rewards program users (17000 users x 5 fields): containing offer ids and meta data about each offer (duration, type, etc.)\n",
    "* profile.json - Offers sent during 30-day test period (10 offers x 6 fields): demographic data for each customer\n",
    "* transcript.json - Event log (306648 events x 4 fields): records for transactions, offers received, offers viewed, and offers completed\n",
    "\n",
    "Here is the schema and explanation of each variable in the files:\n",
    "\n",
    "**profile.json**\n",
    "* gender: (categorical) M, F, O, or null\n",
    "* age: (numeric) missing value encoded as 118\n",
    "* id: (string/hash)\n",
    "* became_member_on: (date) format YYYYMMDD\n",
    "* income: (numeric)\n",
    "\n",
    "**portfolio.json**\n",
    "* reward: (numeric) money awarded for the amount spent\n",
    "* channels: (list) web, email, mobile, social\n",
    "* difficulty: (numeric) money required to be spent to receive reward\n",
    "* duration: (numeric) time for offer to be open, in days\n",
    "* offer_type: (string) bogo, discount, informational\n",
    "* id: (string/hash)\n",
    "\n",
    "**transcript.json**\n",
    "* person: (string/hash)\n",
    "* event: (string) offer received, offer viewed, transaction, offer completed\n",
    "* value: (dictionary) different values depending on event type\n",
    "    * offer id: (string/hash) not associated with any \"transaction\"\n",
    "    * amount: (numeric) money spent in \"transaction\"\n",
    "    * reward: (numeric) money gained from \"offer completed\"\n",
    "* time: (numeric) hours after start of test\n",
    "\n",
    "**Note:** If you are using the workspace, you will need to go to the terminal and run the command `conda update pandas` before reading in the files. This is because the version of pandas in the workspace cannot read in the transcript.json file correctly, but the newest version of pandas can. You can access the termnal from the orange icon in the top left of this notebook.  \n",
    "\n",
    "You can see how to access the terminal and how the install works using the two images below.  First you need to access the terminal:\n",
    "\n",
    "<img src=\"pic1.png\"/>\n",
    "\n",
    "Then you will want to run the above command:\n",
    "\n",
    "<img src=\"pic2.png\"/>\n",
    "\n",
    "Finally, when you enter back into the notebook (use the jupyter icon again), you should be able to run the below cell without any errors."
   ]
  },
  {
   "cell_type": "code",
   "execution_count": 1,
   "metadata": {},
   "outputs": [],
   "source": [
    "import matplotlib.pyplot as plt\n",
    "import pandas as pd\n",
    "import numpy as np\n",
    "\n",
    "%matplotlib inline\n",
    "\n",
    "# read in the json files\n",
    "portfolio = pd.read_json('data/portfolio.json', orient='records', lines=True)\n",
    "profile = pd.read_json('data/profile.json', orient='records', lines=True)\n",
    "transcript = pd.read_json('data/transcript.json', orient='records', lines=True)"
   ]
  },
  {
   "cell_type": "markdown",
   "metadata": {},
   "source": [
    "### Initial Data Observations"
   ]
  },
  {
   "cell_type": "code",
   "execution_count": 2,
   "metadata": {},
   "outputs": [
    {
     "data": {
      "text/html": [
       "<div>\n",
       "<style scoped>\n",
       "    .dataframe tbody tr th:only-of-type {\n",
       "        vertical-align: middle;\n",
       "    }\n",
       "\n",
       "    .dataframe tbody tr th {\n",
       "        vertical-align: top;\n",
       "    }\n",
       "\n",
       "    .dataframe thead th {\n",
       "        text-align: right;\n",
       "    }\n",
       "</style>\n",
       "<table border=\"1\" class=\"dataframe\">\n",
       "  <thead>\n",
       "    <tr style=\"text-align: right;\">\n",
       "      <th></th>\n",
       "      <th>gender</th>\n",
       "      <th>age</th>\n",
       "      <th>id</th>\n",
       "      <th>became_member_on</th>\n",
       "      <th>income</th>\n",
       "    </tr>\n",
       "  </thead>\n",
       "  <tbody>\n",
       "    <tr>\n",
       "      <th>0</th>\n",
       "      <td>None</td>\n",
       "      <td>118</td>\n",
       "      <td>68be06ca386d4c31939f3a4f0e3dd783</td>\n",
       "      <td>20170212</td>\n",
       "      <td>NaN</td>\n",
       "    </tr>\n",
       "    <tr>\n",
       "      <th>1</th>\n",
       "      <td>F</td>\n",
       "      <td>55</td>\n",
       "      <td>0610b486422d4921ae7d2bf64640c50b</td>\n",
       "      <td>20170715</td>\n",
       "      <td>112000.0</td>\n",
       "    </tr>\n",
       "    <tr>\n",
       "      <th>2</th>\n",
       "      <td>None</td>\n",
       "      <td>118</td>\n",
       "      <td>38fe809add3b4fcf9315a9694bb96ff5</td>\n",
       "      <td>20180712</td>\n",
       "      <td>NaN</td>\n",
       "    </tr>\n",
       "    <tr>\n",
       "      <th>3</th>\n",
       "      <td>F</td>\n",
       "      <td>75</td>\n",
       "      <td>78afa995795e4d85b5d9ceeca43f5fef</td>\n",
       "      <td>20170509</td>\n",
       "      <td>100000.0</td>\n",
       "    </tr>\n",
       "    <tr>\n",
       "      <th>4</th>\n",
       "      <td>None</td>\n",
       "      <td>118</td>\n",
       "      <td>a03223e636434f42ac4c3df47e8bac43</td>\n",
       "      <td>20170804</td>\n",
       "      <td>NaN</td>\n",
       "    </tr>\n",
       "  </tbody>\n",
       "</table>\n",
       "</div>"
      ],
      "text/plain": [
       "  gender  age                                id  became_member_on    income\n",
       "0   None  118  68be06ca386d4c31939f3a4f0e3dd783          20170212       NaN\n",
       "1      F   55  0610b486422d4921ae7d2bf64640c50b          20170715  112000.0\n",
       "2   None  118  38fe809add3b4fcf9315a9694bb96ff5          20180712       NaN\n",
       "3      F   75  78afa995795e4d85b5d9ceeca43f5fef          20170509  100000.0\n",
       "4   None  118  a03223e636434f42ac4c3df47e8bac43          20170804       NaN"
      ]
     },
     "execution_count": 2,
     "metadata": {},
     "output_type": "execute_result"
    }
   ],
   "source": [
    "profile.head(5)"
   ]
  },
  {
   "cell_type": "code",
   "execution_count": 3,
   "metadata": {},
   "outputs": [
    {
     "data": {
      "text/plain": [
       "gender              2175\n",
       "age                    0\n",
       "id                     0\n",
       "became_member_on       0\n",
       "income              2175\n",
       "dtype: int64"
      ]
     },
     "execution_count": 3,
     "metadata": {},
     "output_type": "execute_result"
    }
   ],
   "source": [
    "profile.isnull().sum()"
   ]
  },
  {
   "cell_type": "code",
   "execution_count": 4,
   "metadata": {},
   "outputs": [
    {
     "name": "stdout",
     "output_type": "stream",
     "text": [
      "<class 'pandas.core.frame.DataFrame'>\n",
      "RangeIndex: 17000 entries, 0 to 16999\n",
      "Data columns (total 5 columns):\n",
      " #   Column            Non-Null Count  Dtype  \n",
      "---  ------            --------------  -----  \n",
      " 0   gender            14825 non-null  object \n",
      " 1   age               17000 non-null  int64  \n",
      " 2   id                17000 non-null  object \n",
      " 3   became_member_on  17000 non-null  int64  \n",
      " 4   income            14825 non-null  float64\n",
      "dtypes: float64(1), int64(2), object(2)\n",
      "memory usage: 664.2+ KB\n"
     ]
    }
   ],
   "source": [
    "profile.info()"
   ]
  },
  {
   "cell_type": "code",
   "execution_count": 5,
   "metadata": {},
   "outputs": [
    {
     "data": {
      "text/html": [
       "<div>\n",
       "<style scoped>\n",
       "    .dataframe tbody tr th:only-of-type {\n",
       "        vertical-align: middle;\n",
       "    }\n",
       "\n",
       "    .dataframe tbody tr th {\n",
       "        vertical-align: top;\n",
       "    }\n",
       "\n",
       "    .dataframe thead th {\n",
       "        text-align: right;\n",
       "    }\n",
       "</style>\n",
       "<table border=\"1\" class=\"dataframe\">\n",
       "  <thead>\n",
       "    <tr style=\"text-align: right;\">\n",
       "      <th></th>\n",
       "      <th>person</th>\n",
       "      <th>event</th>\n",
       "      <th>value</th>\n",
       "      <th>time</th>\n",
       "    </tr>\n",
       "  </thead>\n",
       "  <tbody>\n",
       "    <tr>\n",
       "      <th>0</th>\n",
       "      <td>78afa995795e4d85b5d9ceeca43f5fef</td>\n",
       "      <td>offer received</td>\n",
       "      <td>{'offer id': '9b98b8c7a33c4b65b9aebfe6a799e6d9'}</td>\n",
       "      <td>0</td>\n",
       "    </tr>\n",
       "    <tr>\n",
       "      <th>1</th>\n",
       "      <td>a03223e636434f42ac4c3df47e8bac43</td>\n",
       "      <td>offer received</td>\n",
       "      <td>{'offer id': '0b1e1539f2cc45b7b9fa7c272da2e1d7'}</td>\n",
       "      <td>0</td>\n",
       "    </tr>\n",
       "    <tr>\n",
       "      <th>2</th>\n",
       "      <td>e2127556f4f64592b11af22de27a7932</td>\n",
       "      <td>offer received</td>\n",
       "      <td>{'offer id': '2906b810c7d4411798c6938adc9daaa5'}</td>\n",
       "      <td>0</td>\n",
       "    </tr>\n",
       "    <tr>\n",
       "      <th>3</th>\n",
       "      <td>8ec6ce2a7e7949b1bf142def7d0e0586</td>\n",
       "      <td>offer received</td>\n",
       "      <td>{'offer id': 'fafdcd668e3743c1bb461111dcafc2a4'}</td>\n",
       "      <td>0</td>\n",
       "    </tr>\n",
       "    <tr>\n",
       "      <th>4</th>\n",
       "      <td>68617ca6246f4fbc85e91a2a49552598</td>\n",
       "      <td>offer received</td>\n",
       "      <td>{'offer id': '4d5c57ea9a6940dd891ad53e9dbe8da0'}</td>\n",
       "      <td>0</td>\n",
       "    </tr>\n",
       "    <tr>\n",
       "      <th>5</th>\n",
       "      <td>389bc3fa690240e798340f5a15918d5c</td>\n",
       "      <td>offer received</td>\n",
       "      <td>{'offer id': 'f19421c1d4aa40978ebb69ca19b0e20d'}</td>\n",
       "      <td>0</td>\n",
       "    </tr>\n",
       "    <tr>\n",
       "      <th>6</th>\n",
       "      <td>c4863c7985cf408faee930f111475da3</td>\n",
       "      <td>offer received</td>\n",
       "      <td>{'offer id': '2298d6c36e964ae4a3e7e9706d1fb8c2'}</td>\n",
       "      <td>0</td>\n",
       "    </tr>\n",
       "    <tr>\n",
       "      <th>7</th>\n",
       "      <td>2eeac8d8feae4a8cad5a6af0499a211d</td>\n",
       "      <td>offer received</td>\n",
       "      <td>{'offer id': '3f207df678b143eea3cee63160fa8bed'}</td>\n",
       "      <td>0</td>\n",
       "    </tr>\n",
       "    <tr>\n",
       "      <th>8</th>\n",
       "      <td>aa4862eba776480b8bb9c68455b8c2e1</td>\n",
       "      <td>offer received</td>\n",
       "      <td>{'offer id': '0b1e1539f2cc45b7b9fa7c272da2e1d7'}</td>\n",
       "      <td>0</td>\n",
       "    </tr>\n",
       "    <tr>\n",
       "      <th>9</th>\n",
       "      <td>31dda685af34476cad5bc968bdb01c53</td>\n",
       "      <td>offer received</td>\n",
       "      <td>{'offer id': '0b1e1539f2cc45b7b9fa7c272da2e1d7'}</td>\n",
       "      <td>0</td>\n",
       "    </tr>\n",
       "    <tr>\n",
       "      <th>10</th>\n",
       "      <td>744d603ef08c4f33af5a61c8c7628d1c</td>\n",
       "      <td>offer received</td>\n",
       "      <td>{'offer id': '0b1e1539f2cc45b7b9fa7c272da2e1d7'}</td>\n",
       "      <td>0</td>\n",
       "    </tr>\n",
       "    <tr>\n",
       "      <th>11</th>\n",
       "      <td>3d02345581554e81b7b289ab5e288078</td>\n",
       "      <td>offer received</td>\n",
       "      <td>{'offer id': '0b1e1539f2cc45b7b9fa7c272da2e1d7'}</td>\n",
       "      <td>0</td>\n",
       "    </tr>\n",
       "    <tr>\n",
       "      <th>12</th>\n",
       "      <td>4b0da7e80e5945209a1fdddfe813dbe0</td>\n",
       "      <td>offer received</td>\n",
       "      <td>{'offer id': 'ae264e3637204a6fb9bb56bc8210ddfd'}</td>\n",
       "      <td>0</td>\n",
       "    </tr>\n",
       "    <tr>\n",
       "      <th>13</th>\n",
       "      <td>c27e0d6ab72c455a8bb66d980963de60</td>\n",
       "      <td>offer received</td>\n",
       "      <td>{'offer id': '3f207df678b143eea3cee63160fa8bed'}</td>\n",
       "      <td>0</td>\n",
       "    </tr>\n",
       "    <tr>\n",
       "      <th>14</th>\n",
       "      <td>d53717f5400c4e84affdaeda9dd926b3</td>\n",
       "      <td>offer received</td>\n",
       "      <td>{'offer id': '0b1e1539f2cc45b7b9fa7c272da2e1d7'}</td>\n",
       "      <td>0</td>\n",
       "    </tr>\n",
       "    <tr>\n",
       "      <th>15</th>\n",
       "      <td>f806632c011441378d4646567f357a21</td>\n",
       "      <td>offer received</td>\n",
       "      <td>{'offer id': 'fafdcd668e3743c1bb461111dcafc2a4'}</td>\n",
       "      <td>0</td>\n",
       "    </tr>\n",
       "    <tr>\n",
       "      <th>16</th>\n",
       "      <td>d058f73bf8674a26a95227db098147b1</td>\n",
       "      <td>offer received</td>\n",
       "      <td>{'offer id': '0b1e1539f2cc45b7b9fa7c272da2e1d7'}</td>\n",
       "      <td>0</td>\n",
       "    </tr>\n",
       "    <tr>\n",
       "      <th>17</th>\n",
       "      <td>65aba5c617294649aeb624da249e1ee5</td>\n",
       "      <td>offer received</td>\n",
       "      <td>{'offer id': '2906b810c7d4411798c6938adc9daaa5'}</td>\n",
       "      <td>0</td>\n",
       "    </tr>\n",
       "    <tr>\n",
       "      <th>18</th>\n",
       "      <td>ebe7ef46ea6f4963a7dd49f501b26779</td>\n",
       "      <td>offer received</td>\n",
       "      <td>{'offer id': '9b98b8c7a33c4b65b9aebfe6a799e6d9'}</td>\n",
       "      <td>0</td>\n",
       "    </tr>\n",
       "    <tr>\n",
       "      <th>19</th>\n",
       "      <td>1e9420836d554513ab90eba98552d0a9</td>\n",
       "      <td>offer received</td>\n",
       "      <td>{'offer id': 'ae264e3637204a6fb9bb56bc8210ddfd'}</td>\n",
       "      <td>0</td>\n",
       "    </tr>\n",
       "  </tbody>\n",
       "</table>\n",
       "</div>"
      ],
      "text/plain": [
       "                              person           event   \n",
       "0   78afa995795e4d85b5d9ceeca43f5fef  offer received  \\\n",
       "1   a03223e636434f42ac4c3df47e8bac43  offer received   \n",
       "2   e2127556f4f64592b11af22de27a7932  offer received   \n",
       "3   8ec6ce2a7e7949b1bf142def7d0e0586  offer received   \n",
       "4   68617ca6246f4fbc85e91a2a49552598  offer received   \n",
       "5   389bc3fa690240e798340f5a15918d5c  offer received   \n",
       "6   c4863c7985cf408faee930f111475da3  offer received   \n",
       "7   2eeac8d8feae4a8cad5a6af0499a211d  offer received   \n",
       "8   aa4862eba776480b8bb9c68455b8c2e1  offer received   \n",
       "9   31dda685af34476cad5bc968bdb01c53  offer received   \n",
       "10  744d603ef08c4f33af5a61c8c7628d1c  offer received   \n",
       "11  3d02345581554e81b7b289ab5e288078  offer received   \n",
       "12  4b0da7e80e5945209a1fdddfe813dbe0  offer received   \n",
       "13  c27e0d6ab72c455a8bb66d980963de60  offer received   \n",
       "14  d53717f5400c4e84affdaeda9dd926b3  offer received   \n",
       "15  f806632c011441378d4646567f357a21  offer received   \n",
       "16  d058f73bf8674a26a95227db098147b1  offer received   \n",
       "17  65aba5c617294649aeb624da249e1ee5  offer received   \n",
       "18  ebe7ef46ea6f4963a7dd49f501b26779  offer received   \n",
       "19  1e9420836d554513ab90eba98552d0a9  offer received   \n",
       "\n",
       "                                               value  time  \n",
       "0   {'offer id': '9b98b8c7a33c4b65b9aebfe6a799e6d9'}     0  \n",
       "1   {'offer id': '0b1e1539f2cc45b7b9fa7c272da2e1d7'}     0  \n",
       "2   {'offer id': '2906b810c7d4411798c6938adc9daaa5'}     0  \n",
       "3   {'offer id': 'fafdcd668e3743c1bb461111dcafc2a4'}     0  \n",
       "4   {'offer id': '4d5c57ea9a6940dd891ad53e9dbe8da0'}     0  \n",
       "5   {'offer id': 'f19421c1d4aa40978ebb69ca19b0e20d'}     0  \n",
       "6   {'offer id': '2298d6c36e964ae4a3e7e9706d1fb8c2'}     0  \n",
       "7   {'offer id': '3f207df678b143eea3cee63160fa8bed'}     0  \n",
       "8   {'offer id': '0b1e1539f2cc45b7b9fa7c272da2e1d7'}     0  \n",
       "9   {'offer id': '0b1e1539f2cc45b7b9fa7c272da2e1d7'}     0  \n",
       "10  {'offer id': '0b1e1539f2cc45b7b9fa7c272da2e1d7'}     0  \n",
       "11  {'offer id': '0b1e1539f2cc45b7b9fa7c272da2e1d7'}     0  \n",
       "12  {'offer id': 'ae264e3637204a6fb9bb56bc8210ddfd'}     0  \n",
       "13  {'offer id': '3f207df678b143eea3cee63160fa8bed'}     0  \n",
       "14  {'offer id': '0b1e1539f2cc45b7b9fa7c272da2e1d7'}     0  \n",
       "15  {'offer id': 'fafdcd668e3743c1bb461111dcafc2a4'}     0  \n",
       "16  {'offer id': '0b1e1539f2cc45b7b9fa7c272da2e1d7'}     0  \n",
       "17  {'offer id': '2906b810c7d4411798c6938adc9daaa5'}     0  \n",
       "18  {'offer id': '9b98b8c7a33c4b65b9aebfe6a799e6d9'}     0  \n",
       "19  {'offer id': 'ae264e3637204a6fb9bb56bc8210ddfd'}     0  "
      ]
     },
     "execution_count": 5,
     "metadata": {},
     "output_type": "execute_result"
    }
   ],
   "source": [
    "transcript.head(20)"
   ]
  },
  {
   "cell_type": "code",
   "execution_count": 6,
   "metadata": {},
   "outputs": [
    {
     "data": {
      "text/plain": [
       "person    0\n",
       "event     0\n",
       "value     0\n",
       "time      0\n",
       "dtype: int64"
      ]
     },
     "execution_count": 6,
     "metadata": {},
     "output_type": "execute_result"
    }
   ],
   "source": [
    "transcript.isnull().sum()"
   ]
  },
  {
   "cell_type": "code",
   "execution_count": 7,
   "metadata": {},
   "outputs": [
    {
     "name": "stdout",
     "output_type": "stream",
     "text": [
      "<class 'pandas.core.frame.DataFrame'>\n",
      "RangeIndex: 306534 entries, 0 to 306533\n",
      "Data columns (total 4 columns):\n",
      " #   Column  Non-Null Count   Dtype \n",
      "---  ------  --------------   ----- \n",
      " 0   person  306534 non-null  object\n",
      " 1   event   306534 non-null  object\n",
      " 2   value   306534 non-null  object\n",
      " 3   time    306534 non-null  int64 \n",
      "dtypes: int64(1), object(3)\n",
      "memory usage: 9.4+ MB\n"
     ]
    }
   ],
   "source": [
    "transcript.info()"
   ]
  },
  {
   "cell_type": "code",
   "execution_count": 8,
   "metadata": {},
   "outputs": [
    {
     "data": {
      "text/plain": [
       "306534"
      ]
     },
     "execution_count": 8,
     "metadata": {},
     "output_type": "execute_result"
    }
   ],
   "source": [
    "len(transcript)"
   ]
  },
  {
   "cell_type": "code",
   "execution_count": 9,
   "metadata": {},
   "outputs": [
    {
     "data": {
      "text/plain": [
       "17000"
      ]
     },
     "execution_count": 9,
     "metadata": {},
     "output_type": "execute_result"
    }
   ],
   "source": [
    "len(profile)"
   ]
  },
  {
   "cell_type": "code",
   "execution_count": 10,
   "metadata": {},
   "outputs": [
    {
     "data": {
      "text/plain": [
       "10"
      ]
     },
     "execution_count": 10,
     "metadata": {},
     "output_type": "execute_result"
    }
   ],
   "source": [
    "len(portfolio)"
   ]
  },
  {
   "cell_type": "code",
   "execution_count": 11,
   "metadata": {},
   "outputs": [
    {
     "data": {
      "text/html": [
       "<div>\n",
       "<style scoped>\n",
       "    .dataframe tbody tr th:only-of-type {\n",
       "        vertical-align: middle;\n",
       "    }\n",
       "\n",
       "    .dataframe tbody tr th {\n",
       "        vertical-align: top;\n",
       "    }\n",
       "\n",
       "    .dataframe thead th {\n",
       "        text-align: right;\n",
       "    }\n",
       "</style>\n",
       "<table border=\"1\" class=\"dataframe\">\n",
       "  <thead>\n",
       "    <tr style=\"text-align: right;\">\n",
       "      <th></th>\n",
       "      <th>reward</th>\n",
       "      <th>channels</th>\n",
       "      <th>difficulty</th>\n",
       "      <th>duration</th>\n",
       "      <th>offer_type</th>\n",
       "      <th>id</th>\n",
       "    </tr>\n",
       "  </thead>\n",
       "  <tbody>\n",
       "    <tr>\n",
       "      <th>0</th>\n",
       "      <td>10</td>\n",
       "      <td>[email, mobile, social]</td>\n",
       "      <td>10</td>\n",
       "      <td>7</td>\n",
       "      <td>bogo</td>\n",
       "      <td>ae264e3637204a6fb9bb56bc8210ddfd</td>\n",
       "    </tr>\n",
       "    <tr>\n",
       "      <th>1</th>\n",
       "      <td>10</td>\n",
       "      <td>[web, email, mobile, social]</td>\n",
       "      <td>10</td>\n",
       "      <td>5</td>\n",
       "      <td>bogo</td>\n",
       "      <td>4d5c57ea9a6940dd891ad53e9dbe8da0</td>\n",
       "    </tr>\n",
       "    <tr>\n",
       "      <th>2</th>\n",
       "      <td>0</td>\n",
       "      <td>[web, email, mobile]</td>\n",
       "      <td>0</td>\n",
       "      <td>4</td>\n",
       "      <td>informational</td>\n",
       "      <td>3f207df678b143eea3cee63160fa8bed</td>\n",
       "    </tr>\n",
       "    <tr>\n",
       "      <th>3</th>\n",
       "      <td>5</td>\n",
       "      <td>[web, email, mobile]</td>\n",
       "      <td>5</td>\n",
       "      <td>7</td>\n",
       "      <td>bogo</td>\n",
       "      <td>9b98b8c7a33c4b65b9aebfe6a799e6d9</td>\n",
       "    </tr>\n",
       "    <tr>\n",
       "      <th>4</th>\n",
       "      <td>5</td>\n",
       "      <td>[web, email]</td>\n",
       "      <td>20</td>\n",
       "      <td>10</td>\n",
       "      <td>discount</td>\n",
       "      <td>0b1e1539f2cc45b7b9fa7c272da2e1d7</td>\n",
       "    </tr>\n",
       "    <tr>\n",
       "      <th>5</th>\n",
       "      <td>3</td>\n",
       "      <td>[web, email, mobile, social]</td>\n",
       "      <td>7</td>\n",
       "      <td>7</td>\n",
       "      <td>discount</td>\n",
       "      <td>2298d6c36e964ae4a3e7e9706d1fb8c2</td>\n",
       "    </tr>\n",
       "    <tr>\n",
       "      <th>6</th>\n",
       "      <td>2</td>\n",
       "      <td>[web, email, mobile, social]</td>\n",
       "      <td>10</td>\n",
       "      <td>10</td>\n",
       "      <td>discount</td>\n",
       "      <td>fafdcd668e3743c1bb461111dcafc2a4</td>\n",
       "    </tr>\n",
       "    <tr>\n",
       "      <th>7</th>\n",
       "      <td>0</td>\n",
       "      <td>[email, mobile, social]</td>\n",
       "      <td>0</td>\n",
       "      <td>3</td>\n",
       "      <td>informational</td>\n",
       "      <td>5a8bc65990b245e5a138643cd4eb9837</td>\n",
       "    </tr>\n",
       "    <tr>\n",
       "      <th>8</th>\n",
       "      <td>5</td>\n",
       "      <td>[web, email, mobile, social]</td>\n",
       "      <td>5</td>\n",
       "      <td>5</td>\n",
       "      <td>bogo</td>\n",
       "      <td>f19421c1d4aa40978ebb69ca19b0e20d</td>\n",
       "    </tr>\n",
       "    <tr>\n",
       "      <th>9</th>\n",
       "      <td>2</td>\n",
       "      <td>[web, email, mobile]</td>\n",
       "      <td>10</td>\n",
       "      <td>7</td>\n",
       "      <td>discount</td>\n",
       "      <td>2906b810c7d4411798c6938adc9daaa5</td>\n",
       "    </tr>\n",
       "  </tbody>\n",
       "</table>\n",
       "</div>"
      ],
      "text/plain": [
       "   reward                      channels  difficulty  duration     offer_type   \n",
       "0      10       [email, mobile, social]          10         7           bogo  \\\n",
       "1      10  [web, email, mobile, social]          10         5           bogo   \n",
       "2       0          [web, email, mobile]           0         4  informational   \n",
       "3       5          [web, email, mobile]           5         7           bogo   \n",
       "4       5                  [web, email]          20        10       discount   \n",
       "5       3  [web, email, mobile, social]           7         7       discount   \n",
       "6       2  [web, email, mobile, social]          10        10       discount   \n",
       "7       0       [email, mobile, social]           0         3  informational   \n",
       "8       5  [web, email, mobile, social]           5         5           bogo   \n",
       "9       2          [web, email, mobile]          10         7       discount   \n",
       "\n",
       "                                 id  \n",
       "0  ae264e3637204a6fb9bb56bc8210ddfd  \n",
       "1  4d5c57ea9a6940dd891ad53e9dbe8da0  \n",
       "2  3f207df678b143eea3cee63160fa8bed  \n",
       "3  9b98b8c7a33c4b65b9aebfe6a799e6d9  \n",
       "4  0b1e1539f2cc45b7b9fa7c272da2e1d7  \n",
       "5  2298d6c36e964ae4a3e7e9706d1fb8c2  \n",
       "6  fafdcd668e3743c1bb461111dcafc2a4  \n",
       "7  5a8bc65990b245e5a138643cd4eb9837  \n",
       "8  f19421c1d4aa40978ebb69ca19b0e20d  \n",
       "9  2906b810c7d4411798c6938adc9daaa5  "
      ]
     },
     "execution_count": 11,
     "metadata": {},
     "output_type": "execute_result"
    }
   ],
   "source": [
    "portfolio.head(10)"
   ]
  },
  {
   "cell_type": "code",
   "execution_count": 12,
   "metadata": {},
   "outputs": [
    {
     "data": {
      "text/plain": [
       "reward        0\n",
       "channels      0\n",
       "difficulty    0\n",
       "duration      0\n",
       "offer_type    0\n",
       "id            0\n",
       "dtype: int64"
      ]
     },
     "execution_count": 12,
     "metadata": {},
     "output_type": "execute_result"
    }
   ],
   "source": [
    "portfolio.isnull().sum()"
   ]
  },
  {
   "cell_type": "code",
   "execution_count": 13,
   "metadata": {},
   "outputs": [
    {
     "data": {
      "text/html": [
       "<div>\n",
       "<style scoped>\n",
       "    .dataframe tbody tr th:only-of-type {\n",
       "        vertical-align: middle;\n",
       "    }\n",
       "\n",
       "    .dataframe tbody tr th {\n",
       "        vertical-align: top;\n",
       "    }\n",
       "\n",
       "    .dataframe thead th {\n",
       "        text-align: right;\n",
       "    }\n",
       "</style>\n",
       "<table border=\"1\" class=\"dataframe\">\n",
       "  <thead>\n",
       "    <tr style=\"text-align: right;\">\n",
       "      <th></th>\n",
       "      <th>age</th>\n",
       "      <th>became_member_on</th>\n",
       "      <th>income</th>\n",
       "    </tr>\n",
       "  </thead>\n",
       "  <tbody>\n",
       "    <tr>\n",
       "      <th>count</th>\n",
       "      <td>17000.000000</td>\n",
       "      <td>1.700000e+04</td>\n",
       "      <td>14825.000000</td>\n",
       "    </tr>\n",
       "    <tr>\n",
       "      <th>mean</th>\n",
       "      <td>62.531412</td>\n",
       "      <td>2.016703e+07</td>\n",
       "      <td>65404.991568</td>\n",
       "    </tr>\n",
       "    <tr>\n",
       "      <th>std</th>\n",
       "      <td>26.738580</td>\n",
       "      <td>1.167750e+04</td>\n",
       "      <td>21598.299410</td>\n",
       "    </tr>\n",
       "    <tr>\n",
       "      <th>min</th>\n",
       "      <td>18.000000</td>\n",
       "      <td>2.013073e+07</td>\n",
       "      <td>30000.000000</td>\n",
       "    </tr>\n",
       "    <tr>\n",
       "      <th>25%</th>\n",
       "      <td>45.000000</td>\n",
       "      <td>2.016053e+07</td>\n",
       "      <td>49000.000000</td>\n",
       "    </tr>\n",
       "    <tr>\n",
       "      <th>50%</th>\n",
       "      <td>58.000000</td>\n",
       "      <td>2.017080e+07</td>\n",
       "      <td>64000.000000</td>\n",
       "    </tr>\n",
       "    <tr>\n",
       "      <th>75%</th>\n",
       "      <td>73.000000</td>\n",
       "      <td>2.017123e+07</td>\n",
       "      <td>80000.000000</td>\n",
       "    </tr>\n",
       "    <tr>\n",
       "      <th>max</th>\n",
       "      <td>118.000000</td>\n",
       "      <td>2.018073e+07</td>\n",
       "      <td>120000.000000</td>\n",
       "    </tr>\n",
       "  </tbody>\n",
       "</table>\n",
       "</div>"
      ],
      "text/plain": [
       "                age  became_member_on         income\n",
       "count  17000.000000      1.700000e+04   14825.000000\n",
       "mean      62.531412      2.016703e+07   65404.991568\n",
       "std       26.738580      1.167750e+04   21598.299410\n",
       "min       18.000000      2.013073e+07   30000.000000\n",
       "25%       45.000000      2.016053e+07   49000.000000\n",
       "50%       58.000000      2.017080e+07   64000.000000\n",
       "75%       73.000000      2.017123e+07   80000.000000\n",
       "max      118.000000      2.018073e+07  120000.000000"
      ]
     },
     "execution_count": 13,
     "metadata": {},
     "output_type": "execute_result"
    }
   ],
   "source": [
    "profile.describe()"
   ]
  },
  {
   "cell_type": "code",
   "execution_count": 14,
   "metadata": {},
   "outputs": [
    {
     "data": {
      "text/html": [
       "<div>\n",
       "<style scoped>\n",
       "    .dataframe tbody tr th:only-of-type {\n",
       "        vertical-align: middle;\n",
       "    }\n",
       "\n",
       "    .dataframe tbody tr th {\n",
       "        vertical-align: top;\n",
       "    }\n",
       "\n",
       "    .dataframe thead th {\n",
       "        text-align: right;\n",
       "    }\n",
       "</style>\n",
       "<table border=\"1\" class=\"dataframe\">\n",
       "  <thead>\n",
       "    <tr style=\"text-align: right;\">\n",
       "      <th></th>\n",
       "      <th>reward</th>\n",
       "      <th>difficulty</th>\n",
       "      <th>duration</th>\n",
       "    </tr>\n",
       "  </thead>\n",
       "  <tbody>\n",
       "    <tr>\n",
       "      <th>count</th>\n",
       "      <td>10.000000</td>\n",
       "      <td>10.000000</td>\n",
       "      <td>10.000000</td>\n",
       "    </tr>\n",
       "    <tr>\n",
       "      <th>mean</th>\n",
       "      <td>4.200000</td>\n",
       "      <td>7.700000</td>\n",
       "      <td>6.500000</td>\n",
       "    </tr>\n",
       "    <tr>\n",
       "      <th>std</th>\n",
       "      <td>3.583915</td>\n",
       "      <td>5.831905</td>\n",
       "      <td>2.321398</td>\n",
       "    </tr>\n",
       "    <tr>\n",
       "      <th>min</th>\n",
       "      <td>0.000000</td>\n",
       "      <td>0.000000</td>\n",
       "      <td>3.000000</td>\n",
       "    </tr>\n",
       "    <tr>\n",
       "      <th>25%</th>\n",
       "      <td>2.000000</td>\n",
       "      <td>5.000000</td>\n",
       "      <td>5.000000</td>\n",
       "    </tr>\n",
       "    <tr>\n",
       "      <th>50%</th>\n",
       "      <td>4.000000</td>\n",
       "      <td>8.500000</td>\n",
       "      <td>7.000000</td>\n",
       "    </tr>\n",
       "    <tr>\n",
       "      <th>75%</th>\n",
       "      <td>5.000000</td>\n",
       "      <td>10.000000</td>\n",
       "      <td>7.000000</td>\n",
       "    </tr>\n",
       "    <tr>\n",
       "      <th>max</th>\n",
       "      <td>10.000000</td>\n",
       "      <td>20.000000</td>\n",
       "      <td>10.000000</td>\n",
       "    </tr>\n",
       "  </tbody>\n",
       "</table>\n",
       "</div>"
      ],
      "text/plain": [
       "          reward  difficulty   duration\n",
       "count  10.000000   10.000000  10.000000\n",
       "mean    4.200000    7.700000   6.500000\n",
       "std     3.583915    5.831905   2.321398\n",
       "min     0.000000    0.000000   3.000000\n",
       "25%     2.000000    5.000000   5.000000\n",
       "50%     4.000000    8.500000   7.000000\n",
       "75%     5.000000   10.000000   7.000000\n",
       "max    10.000000   20.000000  10.000000"
      ]
     },
     "execution_count": 14,
     "metadata": {},
     "output_type": "execute_result"
    }
   ],
   "source": [
    "portfolio.describe()"
   ]
  },
  {
   "cell_type": "code",
   "execution_count": 15,
   "metadata": {},
   "outputs": [
    {
     "data": {
      "text/html": [
       "<div>\n",
       "<style scoped>\n",
       "    .dataframe tbody tr th:only-of-type {\n",
       "        vertical-align: middle;\n",
       "    }\n",
       "\n",
       "    .dataframe tbody tr th {\n",
       "        vertical-align: top;\n",
       "    }\n",
       "\n",
       "    .dataframe thead th {\n",
       "        text-align: right;\n",
       "    }\n",
       "</style>\n",
       "<table border=\"1\" class=\"dataframe\">\n",
       "  <thead>\n",
       "    <tr style=\"text-align: right;\">\n",
       "      <th></th>\n",
       "      <th>time</th>\n",
       "    </tr>\n",
       "  </thead>\n",
       "  <tbody>\n",
       "    <tr>\n",
       "      <th>count</th>\n",
       "      <td>306534.000000</td>\n",
       "    </tr>\n",
       "    <tr>\n",
       "      <th>mean</th>\n",
       "      <td>366.382940</td>\n",
       "    </tr>\n",
       "    <tr>\n",
       "      <th>std</th>\n",
       "      <td>200.326314</td>\n",
       "    </tr>\n",
       "    <tr>\n",
       "      <th>min</th>\n",
       "      <td>0.000000</td>\n",
       "    </tr>\n",
       "    <tr>\n",
       "      <th>25%</th>\n",
       "      <td>186.000000</td>\n",
       "    </tr>\n",
       "    <tr>\n",
       "      <th>50%</th>\n",
       "      <td>408.000000</td>\n",
       "    </tr>\n",
       "    <tr>\n",
       "      <th>75%</th>\n",
       "      <td>528.000000</td>\n",
       "    </tr>\n",
       "    <tr>\n",
       "      <th>max</th>\n",
       "      <td>714.000000</td>\n",
       "    </tr>\n",
       "  </tbody>\n",
       "</table>\n",
       "</div>"
      ],
      "text/plain": [
       "                time\n",
       "count  306534.000000\n",
       "mean      366.382940\n",
       "std       200.326314\n",
       "min         0.000000\n",
       "25%       186.000000\n",
       "50%       408.000000\n",
       "75%       528.000000\n",
       "max       714.000000"
      ]
     },
     "execution_count": 15,
     "metadata": {},
     "output_type": "execute_result"
    }
   ],
   "source": [
    "transcript.describe()"
   ]
  },
  {
   "cell_type": "markdown",
   "metadata": {},
   "source": [
    "### Investigate and Clean Portfolio Dataset"
   ]
  },
  {
   "cell_type": "code",
   "execution_count": 16,
   "metadata": {},
   "outputs": [
    {
     "data": {
      "text/html": [
       "<div>\n",
       "<style scoped>\n",
       "    .dataframe tbody tr th:only-of-type {\n",
       "        vertical-align: middle;\n",
       "    }\n",
       "\n",
       "    .dataframe tbody tr th {\n",
       "        vertical-align: top;\n",
       "    }\n",
       "\n",
       "    .dataframe thead th {\n",
       "        text-align: right;\n",
       "    }\n",
       "</style>\n",
       "<table border=\"1\" class=\"dataframe\">\n",
       "  <thead>\n",
       "    <tr style=\"text-align: right;\">\n",
       "      <th></th>\n",
       "      <th>id</th>\n",
       "      <th>reward</th>\n",
       "      <th>channels</th>\n",
       "      <th>difficulty</th>\n",
       "      <th>duration</th>\n",
       "      <th>offer_type</th>\n",
       "      <th>email</th>\n",
       "      <th>mobile</th>\n",
       "      <th>social</th>\n",
       "      <th>web</th>\n",
       "      <th>bogo</th>\n",
       "      <th>discount</th>\n",
       "      <th>informational</th>\n",
       "    </tr>\n",
       "  </thead>\n",
       "  <tbody>\n",
       "    <tr>\n",
       "      <th>0</th>\n",
       "      <td>ae264e3637204a6fb9bb56bc8210ddfd</td>\n",
       "      <td>10</td>\n",
       "      <td>[email, mobile, social]</td>\n",
       "      <td>10</td>\n",
       "      <td>7</td>\n",
       "      <td>bogo</td>\n",
       "      <td>1</td>\n",
       "      <td>1</td>\n",
       "      <td>1</td>\n",
       "      <td>0</td>\n",
       "      <td>True</td>\n",
       "      <td>False</td>\n",
       "      <td>False</td>\n",
       "    </tr>\n",
       "    <tr>\n",
       "      <th>1</th>\n",
       "      <td>4d5c57ea9a6940dd891ad53e9dbe8da0</td>\n",
       "      <td>10</td>\n",
       "      <td>[web, email, mobile, social]</td>\n",
       "      <td>10</td>\n",
       "      <td>5</td>\n",
       "      <td>bogo</td>\n",
       "      <td>1</td>\n",
       "      <td>1</td>\n",
       "      <td>1</td>\n",
       "      <td>1</td>\n",
       "      <td>True</td>\n",
       "      <td>False</td>\n",
       "      <td>False</td>\n",
       "    </tr>\n",
       "    <tr>\n",
       "      <th>2</th>\n",
       "      <td>3f207df678b143eea3cee63160fa8bed</td>\n",
       "      <td>0</td>\n",
       "      <td>[web, email, mobile]</td>\n",
       "      <td>0</td>\n",
       "      <td>4</td>\n",
       "      <td>informational</td>\n",
       "      <td>1</td>\n",
       "      <td>1</td>\n",
       "      <td>0</td>\n",
       "      <td>1</td>\n",
       "      <td>False</td>\n",
       "      <td>False</td>\n",
       "      <td>True</td>\n",
       "    </tr>\n",
       "    <tr>\n",
       "      <th>3</th>\n",
       "      <td>9b98b8c7a33c4b65b9aebfe6a799e6d9</td>\n",
       "      <td>5</td>\n",
       "      <td>[web, email, mobile]</td>\n",
       "      <td>5</td>\n",
       "      <td>7</td>\n",
       "      <td>bogo</td>\n",
       "      <td>1</td>\n",
       "      <td>1</td>\n",
       "      <td>0</td>\n",
       "      <td>1</td>\n",
       "      <td>True</td>\n",
       "      <td>False</td>\n",
       "      <td>False</td>\n",
       "    </tr>\n",
       "    <tr>\n",
       "      <th>4</th>\n",
       "      <td>0b1e1539f2cc45b7b9fa7c272da2e1d7</td>\n",
       "      <td>5</td>\n",
       "      <td>[web, email]</td>\n",
       "      <td>20</td>\n",
       "      <td>10</td>\n",
       "      <td>discount</td>\n",
       "      <td>1</td>\n",
       "      <td>0</td>\n",
       "      <td>0</td>\n",
       "      <td>1</td>\n",
       "      <td>False</td>\n",
       "      <td>True</td>\n",
       "      <td>False</td>\n",
       "    </tr>\n",
       "    <tr>\n",
       "      <th>5</th>\n",
       "      <td>2298d6c36e964ae4a3e7e9706d1fb8c2</td>\n",
       "      <td>3</td>\n",
       "      <td>[web, email, mobile, social]</td>\n",
       "      <td>7</td>\n",
       "      <td>7</td>\n",
       "      <td>discount</td>\n",
       "      <td>1</td>\n",
       "      <td>1</td>\n",
       "      <td>1</td>\n",
       "      <td>1</td>\n",
       "      <td>False</td>\n",
       "      <td>True</td>\n",
       "      <td>False</td>\n",
       "    </tr>\n",
       "    <tr>\n",
       "      <th>6</th>\n",
       "      <td>fafdcd668e3743c1bb461111dcafc2a4</td>\n",
       "      <td>2</td>\n",
       "      <td>[web, email, mobile, social]</td>\n",
       "      <td>10</td>\n",
       "      <td>10</td>\n",
       "      <td>discount</td>\n",
       "      <td>1</td>\n",
       "      <td>1</td>\n",
       "      <td>1</td>\n",
       "      <td>1</td>\n",
       "      <td>False</td>\n",
       "      <td>True</td>\n",
       "      <td>False</td>\n",
       "    </tr>\n",
       "    <tr>\n",
       "      <th>7</th>\n",
       "      <td>5a8bc65990b245e5a138643cd4eb9837</td>\n",
       "      <td>0</td>\n",
       "      <td>[email, mobile, social]</td>\n",
       "      <td>0</td>\n",
       "      <td>3</td>\n",
       "      <td>informational</td>\n",
       "      <td>1</td>\n",
       "      <td>1</td>\n",
       "      <td>1</td>\n",
       "      <td>0</td>\n",
       "      <td>False</td>\n",
       "      <td>False</td>\n",
       "      <td>True</td>\n",
       "    </tr>\n",
       "    <tr>\n",
       "      <th>8</th>\n",
       "      <td>f19421c1d4aa40978ebb69ca19b0e20d</td>\n",
       "      <td>5</td>\n",
       "      <td>[web, email, mobile, social]</td>\n",
       "      <td>5</td>\n",
       "      <td>5</td>\n",
       "      <td>bogo</td>\n",
       "      <td>1</td>\n",
       "      <td>1</td>\n",
       "      <td>1</td>\n",
       "      <td>1</td>\n",
       "      <td>True</td>\n",
       "      <td>False</td>\n",
       "      <td>False</td>\n",
       "    </tr>\n",
       "    <tr>\n",
       "      <th>9</th>\n",
       "      <td>2906b810c7d4411798c6938adc9daaa5</td>\n",
       "      <td>2</td>\n",
       "      <td>[web, email, mobile]</td>\n",
       "      <td>10</td>\n",
       "      <td>7</td>\n",
       "      <td>discount</td>\n",
       "      <td>1</td>\n",
       "      <td>1</td>\n",
       "      <td>0</td>\n",
       "      <td>1</td>\n",
       "      <td>False</td>\n",
       "      <td>True</td>\n",
       "      <td>False</td>\n",
       "    </tr>\n",
       "  </tbody>\n",
       "</table>\n",
       "</div>"
      ],
      "text/plain": [
       "                                 id  reward                      channels   \n",
       "0  ae264e3637204a6fb9bb56bc8210ddfd      10       [email, mobile, social]  \\\n",
       "1  4d5c57ea9a6940dd891ad53e9dbe8da0      10  [web, email, mobile, social]   \n",
       "2  3f207df678b143eea3cee63160fa8bed       0          [web, email, mobile]   \n",
       "3  9b98b8c7a33c4b65b9aebfe6a799e6d9       5          [web, email, mobile]   \n",
       "4  0b1e1539f2cc45b7b9fa7c272da2e1d7       5                  [web, email]   \n",
       "5  2298d6c36e964ae4a3e7e9706d1fb8c2       3  [web, email, mobile, social]   \n",
       "6  fafdcd668e3743c1bb461111dcafc2a4       2  [web, email, mobile, social]   \n",
       "7  5a8bc65990b245e5a138643cd4eb9837       0       [email, mobile, social]   \n",
       "8  f19421c1d4aa40978ebb69ca19b0e20d       5  [web, email, mobile, social]   \n",
       "9  2906b810c7d4411798c6938adc9daaa5       2          [web, email, mobile]   \n",
       "\n",
       "   difficulty  duration     offer_type  email  mobile  social  web   bogo   \n",
       "0          10         7           bogo      1       1       1    0   True  \\\n",
       "1          10         5           bogo      1       1       1    1   True   \n",
       "2           0         4  informational      1       1       0    1  False   \n",
       "3           5         7           bogo      1       1       0    1   True   \n",
       "4          20        10       discount      1       0       0    1  False   \n",
       "5           7         7       discount      1       1       1    1  False   \n",
       "6          10        10       discount      1       1       1    1  False   \n",
       "7           0         3  informational      1       1       1    0  False   \n",
       "8           5         5           bogo      1       1       1    1   True   \n",
       "9          10         7       discount      1       1       0    1  False   \n",
       "\n",
       "   discount  informational  \n",
       "0     False          False  \n",
       "1     False          False  \n",
       "2     False           True  \n",
       "3     False          False  \n",
       "4      True          False  \n",
       "5      True          False  \n",
       "6      True          False  \n",
       "7     False           True  \n",
       "8     False          False  \n",
       "9      True          False  "
      ]
     },
     "execution_count": 16,
     "metadata": {},
     "output_type": "execute_result"
    }
   ],
   "source": [
    "#Edit portfolio dataset\n",
    "channels = portfolio['channels'].str.join(sep='*').str.get_dummies(sep='*')\n",
    "offer_type = pd.get_dummies(portfolio[\"offer_type\"])\n",
    "offer_type\n",
    "\n",
    "portfolio_new = pd.concat([portfolio, channels, offer_type], axis=1, sort=False)\n",
    "portfolio_new.drop(['channels', 'offer_type'],axis=1)\n",
    "col = portfolio_new.pop('id')\n",
    "portfolio_new.insert(0, 'id', col)\n",
    "portfolio_new"
   ]
  },
  {
   "cell_type": "code",
   "execution_count": 17,
   "metadata": {},
   "outputs": [
    {
     "data": {
      "text/plain": [
       "gender              0\n",
       "age                 0\n",
       "id                  0\n",
       "became_member_on    0\n",
       "income              0\n",
       "dtype: int64"
      ]
     },
     "execution_count": 17,
     "metadata": {},
     "output_type": "execute_result"
    }
   ],
   "source": [
    "#Edit profile dataset\n",
    "profile['age'].unique()\n",
    "profile[profile['age']==118]\n",
    "\n",
    "#Remove rows where age is 118 since it is unrealistic and missing gender values\n",
    "\n",
    "profile_new = profile.drop(profile[profile['age']==118].index)\n",
    "profile_new.isnull().sum()\n",
    "#profile_new"
   ]
  },
  {
   "cell_type": "code",
   "execution_count": 18,
   "metadata": {},
   "outputs": [
    {
     "data": {
      "text/plain": [
       "Text(0.5, 1.0, 'Customers by Gender')"
      ]
     },
     "execution_count": 18,
     "metadata": {},
     "output_type": "execute_result"
    },
    {
     "data": {
      "image/png": "[encoded data removed]",
      "text/plain": [
       "<Figure size 640x480 with 1 Axes>"
      ]
     },
     "metadata": {},
     "output_type": "display_data"
    }
   ],
   "source": [
    "#Breakdown of customers by gender\n",
    "profile_new.gender.value_counts().plot.bar().set_title(\"Customers by Gender\")"
   ]
  },
  {
   "cell_type": "code",
   "execution_count": 19,
   "metadata": {},
   "outputs": [
    {
     "data": {
      "text/plain": [
       "Text(0.5, 0, 'Age')"
      ]
     },
     "execution_count": 19,
     "metadata": {},
     "output_type": "execute_result"
    },
    {
     "data": {
      "image/png": "[encoded data removed]",
      "text/plain": [
       "<Figure size 640x480 with 1 Axes>"
      ]
     },
     "metadata": {},
     "output_type": "display_data"
    }
   ],
   "source": [
    "#Breakdown of customers by age\n",
    "profile_new['age'].plot(kind='hist', bins=30, title='Age of Customers').set_xlabel(\"Age\")"
   ]
  },
  {
   "cell_type": "code",
   "execution_count": 20,
   "metadata": {},
   "outputs": [
    {
     "data": {
      "text/plain": [
       "Text(0.5, 0, 'Income')"
      ]
     },
     "execution_count": 20,
     "metadata": {},
     "output_type": "execute_result"
    },
    {
     "data": {
      "image/png": "[encoded data removed]",
      "text/plain": [
       "<Figure size 640x480 with 1 Axes>"
      ]
     },
     "metadata": {},
     "output_type": "display_data"
    }
   ],
   "source": [
    "#Breakdown of customers by income groups\n",
    "profile_new['income'].plot(kind='hist', bins=30, title='Income of Customers').set_xlabel(\"Income\")"
   ]
  },
  {
   "cell_type": "markdown",
   "metadata": {},
   "source": [
    "### Investigate and Clean Transcript Dataset"
   ]
  },
  {
   "cell_type": "code",
   "execution_count": 21,
   "metadata": {},
   "outputs": [],
   "source": [
    "#Edit transcript dataset\n",
    "np.unique(transcript.event)\n",
    "\n",
    "#Convert event column into dummies\n",
    "event_dummies = pd.get_dummies(transcript.event)"
   ]
  },
  {
   "cell_type": "code",
   "execution_count": 22,
   "metadata": {},
   "outputs": [],
   "source": [
    "#Some values in the value column are offer id, offer_id and amounts. Need to separate them out\n",
    "\n",
    "offer_list = []\n",
    "amount = []\n",
    "for i in range(len(transcript.value)):\n",
    "    offer_list.append(list(transcript.value[i].keys())[0])\n",
    "    amount.append(list(transcript.value[i].values())[0])\n",
    "    \n",
    "#Initialize columns\n",
    "transcript['amount_cat']= amount\n",
    "transcript['offer_id_cat']= offer_list\n",
    "\n",
    "transcript['offer_id_cat'].replace({'offer id':'offer_id'}, inplace=True)\n"
   ]
  },
  {
   "cell_type": "code",
   "execution_count": 23,
   "metadata": {},
   "outputs": [
    {
     "data": {
      "text/html": [
       "<div>\n",
       "<style scoped>\n",
       "    .dataframe tbody tr th:only-of-type {\n",
       "        vertical-align: middle;\n",
       "    }\n",
       "\n",
       "    .dataframe tbody tr th {\n",
       "        vertical-align: top;\n",
       "    }\n",
       "\n",
       "    .dataframe thead th {\n",
       "        text-align: right;\n",
       "    }\n",
       "</style>\n",
       "<table border=\"1\" class=\"dataframe\">\n",
       "  <thead>\n",
       "    <tr style=\"text-align: right;\">\n",
       "      <th></th>\n",
       "      <th>person</th>\n",
       "      <th>event</th>\n",
       "      <th>value</th>\n",
       "      <th>time</th>\n",
       "      <th>amount_cat</th>\n",
       "      <th>offer_id_cat</th>\n",
       "    </tr>\n",
       "  </thead>\n",
       "  <tbody>\n",
       "    <tr>\n",
       "      <th>0</th>\n",
       "      <td>78afa995795e4d85b5d9ceeca43f5fef</td>\n",
       "      <td>offer received</td>\n",
       "      <td>{'offer id': '9b98b8c7a33c4b65b9aebfe6a799e6d9'}</td>\n",
       "      <td>0</td>\n",
       "      <td>9b98b8c7a33c4b65b9aebfe6a799e6d9</td>\n",
       "      <td>offer_id</td>\n",
       "    </tr>\n",
       "    <tr>\n",
       "      <th>1</th>\n",
       "      <td>a03223e636434f42ac4c3df47e8bac43</td>\n",
       "      <td>offer received</td>\n",
       "      <td>{'offer id': '0b1e1539f2cc45b7b9fa7c272da2e1d7'}</td>\n",
       "      <td>0</td>\n",
       "      <td>0b1e1539f2cc45b7b9fa7c272da2e1d7</td>\n",
       "      <td>offer_id</td>\n",
       "    </tr>\n",
       "    <tr>\n",
       "      <th>2</th>\n",
       "      <td>e2127556f4f64592b11af22de27a7932</td>\n",
       "      <td>offer received</td>\n",
       "      <td>{'offer id': '2906b810c7d4411798c6938adc9daaa5'}</td>\n",
       "      <td>0</td>\n",
       "      <td>2906b810c7d4411798c6938adc9daaa5</td>\n",
       "      <td>offer_id</td>\n",
       "    </tr>\n",
       "    <tr>\n",
       "      <th>3</th>\n",
       "      <td>8ec6ce2a7e7949b1bf142def7d0e0586</td>\n",
       "      <td>offer received</td>\n",
       "      <td>{'offer id': 'fafdcd668e3743c1bb461111dcafc2a4'}</td>\n",
       "      <td>0</td>\n",
       "      <td>fafdcd668e3743c1bb461111dcafc2a4</td>\n",
       "      <td>offer_id</td>\n",
       "    </tr>\n",
       "    <tr>\n",
       "      <th>4</th>\n",
       "      <td>68617ca6246f4fbc85e91a2a49552598</td>\n",
       "      <td>offer received</td>\n",
       "      <td>{'offer id': '4d5c57ea9a6940dd891ad53e9dbe8da0'}</td>\n",
       "      <td>0</td>\n",
       "      <td>4d5c57ea9a6940dd891ad53e9dbe8da0</td>\n",
       "      <td>offer_id</td>\n",
       "    </tr>\n",
       "    <tr>\n",
       "      <th>...</th>\n",
       "      <td>...</td>\n",
       "      <td>...</td>\n",
       "      <td>...</td>\n",
       "      <td>...</td>\n",
       "      <td>...</td>\n",
       "      <td>...</td>\n",
       "    </tr>\n",
       "    <tr>\n",
       "      <th>306529</th>\n",
       "      <td>b3a1272bc9904337b331bf348c3e8c17</td>\n",
       "      <td>transaction</td>\n",
       "      <td>{'amount': 1.5899999999999999}</td>\n",
       "      <td>714</td>\n",
       "      <td>1.59</td>\n",
       "      <td>amount</td>\n",
       "    </tr>\n",
       "    <tr>\n",
       "      <th>306530</th>\n",
       "      <td>68213b08d99a4ae1b0dcb72aebd9aa35</td>\n",
       "      <td>transaction</td>\n",
       "      <td>{'amount': 9.53}</td>\n",
       "      <td>714</td>\n",
       "      <td>9.53</td>\n",
       "      <td>amount</td>\n",
       "    </tr>\n",
       "    <tr>\n",
       "      <th>306531</th>\n",
       "      <td>a00058cf10334a308c68e7631c529907</td>\n",
       "      <td>transaction</td>\n",
       "      <td>{'amount': 3.61}</td>\n",
       "      <td>714</td>\n",
       "      <td>3.61</td>\n",
       "      <td>amount</td>\n",
       "    </tr>\n",
       "    <tr>\n",
       "      <th>306532</th>\n",
       "      <td>76ddbd6576844afe811f1a3c0fbb5bec</td>\n",
       "      <td>transaction</td>\n",
       "      <td>{'amount': 3.5300000000000002}</td>\n",
       "      <td>714</td>\n",
       "      <td>3.53</td>\n",
       "      <td>amount</td>\n",
       "    </tr>\n",
       "    <tr>\n",
       "      <th>306533</th>\n",
       "      <td>c02b10e8752c4d8e9b73f918558531f7</td>\n",
       "      <td>transaction</td>\n",
       "      <td>{'amount': 4.05}</td>\n",
       "      <td>714</td>\n",
       "      <td>4.05</td>\n",
       "      <td>amount</td>\n",
       "    </tr>\n",
       "  </tbody>\n",
       "</table>\n",
       "<p>306534 rows × 6 columns</p>\n",
       "</div>"
      ],
      "text/plain": [
       "                                  person           event   \n",
       "0       78afa995795e4d85b5d9ceeca43f5fef  offer received  \\\n",
       "1       a03223e636434f42ac4c3df47e8bac43  offer received   \n",
       "2       e2127556f4f64592b11af22de27a7932  offer received   \n",
       "3       8ec6ce2a7e7949b1bf142def7d0e0586  offer received   \n",
       "4       68617ca6246f4fbc85e91a2a49552598  offer received   \n",
       "...                                  ...             ...   \n",
       "306529  b3a1272bc9904337b331bf348c3e8c17     transaction   \n",
       "306530  68213b08d99a4ae1b0dcb72aebd9aa35     transaction   \n",
       "306531  a00058cf10334a308c68e7631c529907     transaction   \n",
       "306532  76ddbd6576844afe811f1a3c0fbb5bec     transaction   \n",
       "306533  c02b10e8752c4d8e9b73f918558531f7     transaction   \n",
       "\n",
       "                                                   value  time   \n",
       "0       {'offer id': '9b98b8c7a33c4b65b9aebfe6a799e6d9'}     0  \\\n",
       "1       {'offer id': '0b1e1539f2cc45b7b9fa7c272da2e1d7'}     0   \n",
       "2       {'offer id': '2906b810c7d4411798c6938adc9daaa5'}     0   \n",
       "3       {'offer id': 'fafdcd668e3743c1bb461111dcafc2a4'}     0   \n",
       "4       {'offer id': '4d5c57ea9a6940dd891ad53e9dbe8da0'}     0   \n",
       "...                                                  ...   ...   \n",
       "306529                    {'amount': 1.5899999999999999}   714   \n",
       "306530                                  {'amount': 9.53}   714   \n",
       "306531                                  {'amount': 3.61}   714   \n",
       "306532                    {'amount': 3.5300000000000002}   714   \n",
       "306533                                  {'amount': 4.05}   714   \n",
       "\n",
       "                              amount_cat offer_id_cat  \n",
       "0       9b98b8c7a33c4b65b9aebfe6a799e6d9     offer_id  \n",
       "1       0b1e1539f2cc45b7b9fa7c272da2e1d7     offer_id  \n",
       "2       2906b810c7d4411798c6938adc9daaa5     offer_id  \n",
       "3       fafdcd668e3743c1bb461111dcafc2a4     offer_id  \n",
       "4       4d5c57ea9a6940dd891ad53e9dbe8da0     offer_id  \n",
       "...                                  ...          ...  \n",
       "306529                              1.59       amount  \n",
       "306530                              9.53       amount  \n",
       "306531                              3.61       amount  \n",
       "306532                              3.53       amount  \n",
       "306533                              4.05       amount  \n",
       "\n",
       "[306534 rows x 6 columns]"
      ]
     },
     "execution_count": 23,
     "metadata": {},
     "output_type": "execute_result"
    }
   ],
   "source": [
    "transcript"
   ]
  },
  {
   "cell_type": "code",
   "execution_count": 24,
   "metadata": {},
   "outputs": [],
   "source": [
    "offer_id = []\n",
    "amount_clean = []\n",
    "\n",
    "for i in range(len(transcript.value)):\n",
    "    if transcript.offer_id_cat[i] == \"offer_id\":\n",
    "         offer_id.append(transcript.amount_cat[i])\n",
    "    else: \n",
    "         offer_id.append('None')\n",
    "\n",
    "for i in range(len(transcript.value)):\n",
    "    if transcript.offer_id_cat[i] == \"offer_id\":\n",
    "         amount_clean.append(0)\n",
    "    else: \n",
    "         amount_clean.append(transcript.amount_cat[i]) \n",
    "            \n",
    "transcript['amount'] = amount_clean       \n",
    "transcript['offer_id'] = offer_id\n"
   ]
  },
  {
   "cell_type": "code",
   "execution_count": 25,
   "metadata": {},
   "outputs": [
    {
     "data": {
      "text/html": [
       "<div>\n",
       "<style scoped>\n",
       "    .dataframe tbody tr th:only-of-type {\n",
       "        vertical-align: middle;\n",
       "    }\n",
       "\n",
       "    .dataframe tbody tr th {\n",
       "        vertical-align: top;\n",
       "    }\n",
       "\n",
       "    .dataframe thead th {\n",
       "        text-align: right;\n",
       "    }\n",
       "</style>\n",
       "<table border=\"1\" class=\"dataframe\">\n",
       "  <thead>\n",
       "    <tr style=\"text-align: right;\">\n",
       "      <th></th>\n",
       "      <th>person</th>\n",
       "      <th>time</th>\n",
       "      <th>amount</th>\n",
       "      <th>offer_id</th>\n",
       "      <th>offer completed</th>\n",
       "      <th>offer received</th>\n",
       "      <th>offer viewed</th>\n",
       "      <th>transaction</th>\n",
       "    </tr>\n",
       "  </thead>\n",
       "  <tbody>\n",
       "    <tr>\n",
       "      <th>0</th>\n",
       "      <td>78afa995795e4d85b5d9ceeca43f5fef</td>\n",
       "      <td>0</td>\n",
       "      <td>0.00</td>\n",
       "      <td>9b98b8c7a33c4b65b9aebfe6a799e6d9</td>\n",
       "      <td>False</td>\n",
       "      <td>True</td>\n",
       "      <td>False</td>\n",
       "      <td>False</td>\n",
       "    </tr>\n",
       "    <tr>\n",
       "      <th>1</th>\n",
       "      <td>a03223e636434f42ac4c3df47e8bac43</td>\n",
       "      <td>0</td>\n",
       "      <td>0.00</td>\n",
       "      <td>0b1e1539f2cc45b7b9fa7c272da2e1d7</td>\n",
       "      <td>False</td>\n",
       "      <td>True</td>\n",
       "      <td>False</td>\n",
       "      <td>False</td>\n",
       "    </tr>\n",
       "    <tr>\n",
       "      <th>2</th>\n",
       "      <td>e2127556f4f64592b11af22de27a7932</td>\n",
       "      <td>0</td>\n",
       "      <td>0.00</td>\n",
       "      <td>2906b810c7d4411798c6938adc9daaa5</td>\n",
       "      <td>False</td>\n",
       "      <td>True</td>\n",
       "      <td>False</td>\n",
       "      <td>False</td>\n",
       "    </tr>\n",
       "    <tr>\n",
       "      <th>3</th>\n",
       "      <td>8ec6ce2a7e7949b1bf142def7d0e0586</td>\n",
       "      <td>0</td>\n",
       "      <td>0.00</td>\n",
       "      <td>fafdcd668e3743c1bb461111dcafc2a4</td>\n",
       "      <td>False</td>\n",
       "      <td>True</td>\n",
       "      <td>False</td>\n",
       "      <td>False</td>\n",
       "    </tr>\n",
       "    <tr>\n",
       "      <th>4</th>\n",
       "      <td>68617ca6246f4fbc85e91a2a49552598</td>\n",
       "      <td>0</td>\n",
       "      <td>0.00</td>\n",
       "      <td>4d5c57ea9a6940dd891ad53e9dbe8da0</td>\n",
       "      <td>False</td>\n",
       "      <td>True</td>\n",
       "      <td>False</td>\n",
       "      <td>False</td>\n",
       "    </tr>\n",
       "    <tr>\n",
       "      <th>...</th>\n",
       "      <td>...</td>\n",
       "      <td>...</td>\n",
       "      <td>...</td>\n",
       "      <td>...</td>\n",
       "      <td>...</td>\n",
       "      <td>...</td>\n",
       "      <td>...</td>\n",
       "      <td>...</td>\n",
       "    </tr>\n",
       "    <tr>\n",
       "      <th>306529</th>\n",
       "      <td>b3a1272bc9904337b331bf348c3e8c17</td>\n",
       "      <td>714</td>\n",
       "      <td>1.59</td>\n",
       "      <td>None</td>\n",
       "      <td>False</td>\n",
       "      <td>False</td>\n",
       "      <td>False</td>\n",
       "      <td>True</td>\n",
       "    </tr>\n",
       "    <tr>\n",
       "      <th>306530</th>\n",
       "      <td>68213b08d99a4ae1b0dcb72aebd9aa35</td>\n",
       "      <td>714</td>\n",
       "      <td>9.53</td>\n",
       "      <td>None</td>\n",
       "      <td>False</td>\n",
       "      <td>False</td>\n",
       "      <td>False</td>\n",
       "      <td>True</td>\n",
       "    </tr>\n",
       "    <tr>\n",
       "      <th>306531</th>\n",
       "      <td>a00058cf10334a308c68e7631c529907</td>\n",
       "      <td>714</td>\n",
       "      <td>3.61</td>\n",
       "      <td>None</td>\n",
       "      <td>False</td>\n",
       "      <td>False</td>\n",
       "      <td>False</td>\n",
       "      <td>True</td>\n",
       "    </tr>\n",
       "    <tr>\n",
       "      <th>306532</th>\n",
       "      <td>76ddbd6576844afe811f1a3c0fbb5bec</td>\n",
       "      <td>714</td>\n",
       "      <td>3.53</td>\n",
       "      <td>None</td>\n",
       "      <td>False</td>\n",
       "      <td>False</td>\n",
       "      <td>False</td>\n",
       "      <td>True</td>\n",
       "    </tr>\n",
       "    <tr>\n",
       "      <th>306533</th>\n",
       "      <td>c02b10e8752c4d8e9b73f918558531f7</td>\n",
       "      <td>714</td>\n",
       "      <td>4.05</td>\n",
       "      <td>None</td>\n",
       "      <td>False</td>\n",
       "      <td>False</td>\n",
       "      <td>False</td>\n",
       "      <td>True</td>\n",
       "    </tr>\n",
       "  </tbody>\n",
       "</table>\n",
       "<p>306534 rows × 8 columns</p>\n",
       "</div>"
      ],
      "text/plain": [
       "                                  person  time  amount   \n",
       "0       78afa995795e4d85b5d9ceeca43f5fef     0    0.00  \\\n",
       "1       a03223e636434f42ac4c3df47e8bac43     0    0.00   \n",
       "2       e2127556f4f64592b11af22de27a7932     0    0.00   \n",
       "3       8ec6ce2a7e7949b1bf142def7d0e0586     0    0.00   \n",
       "4       68617ca6246f4fbc85e91a2a49552598     0    0.00   \n",
       "...                                  ...   ...     ...   \n",
       "306529  b3a1272bc9904337b331bf348c3e8c17   714    1.59   \n",
       "306530  68213b08d99a4ae1b0dcb72aebd9aa35   714    9.53   \n",
       "306531  a00058cf10334a308c68e7631c529907   714    3.61   \n",
       "306532  76ddbd6576844afe811f1a3c0fbb5bec   714    3.53   \n",
       "306533  c02b10e8752c4d8e9b73f918558531f7   714    4.05   \n",
       "\n",
       "                                offer_id  offer completed  offer received   \n",
       "0       9b98b8c7a33c4b65b9aebfe6a799e6d9            False            True  \\\n",
       "1       0b1e1539f2cc45b7b9fa7c272da2e1d7            False            True   \n",
       "2       2906b810c7d4411798c6938adc9daaa5            False            True   \n",
       "3       fafdcd668e3743c1bb461111dcafc2a4            False            True   \n",
       "4       4d5c57ea9a6940dd891ad53e9dbe8da0            False            True   \n",
       "...                                  ...              ...             ...   \n",
       "306529                              None            False           False   \n",
       "306530                              None            False           False   \n",
       "306531                              None            False           False   \n",
       "306532                              None            False           False   \n",
       "306533                              None            False           False   \n",
       "\n",
       "        offer viewed  transaction  \n",
       "0              False        False  \n",
       "1              False        False  \n",
       "2              False        False  \n",
       "3              False        False  \n",
       "4              False        False  \n",
       "...              ...          ...  \n",
       "306529         False         True  \n",
       "306530         False         True  \n",
       "306531         False         True  \n",
       "306532         False         True  \n",
       "306533         False         True  \n",
       "\n",
       "[306534 rows x 8 columns]"
      ]
     },
     "execution_count": 25,
     "metadata": {},
     "output_type": "execute_result"
    }
   ],
   "source": [
    "transcript_new = pd.concat([transcript,event_dummies],axis=1).drop(columns = {\"event\",\"value\",\"amount_cat\",\"offer_id_cat\"})\n",
    "transcript_new"
   ]
  },
  {
   "cell_type": "markdown",
   "metadata": {},
   "source": [
    "### Combine all dataframes together to form 1 big dataframe for analysis"
   ]
  },
  {
   "cell_type": "code",
   "execution_count": 26,
   "metadata": {},
   "outputs": [
    {
     "data": {
      "text/html": [
       "<div>\n",
       "<style scoped>\n",
       "    .dataframe tbody tr th:only-of-type {\n",
       "        vertical-align: middle;\n",
       "    }\n",
       "\n",
       "    .dataframe tbody tr th {\n",
       "        vertical-align: top;\n",
       "    }\n",
       "\n",
       "    .dataframe thead th {\n",
       "        text-align: right;\n",
       "    }\n",
       "</style>\n",
       "<table border=\"1\" class=\"dataframe\">\n",
       "  <thead>\n",
       "    <tr style=\"text-align: right;\">\n",
       "      <th></th>\n",
       "      <th>person</th>\n",
       "      <th>time</th>\n",
       "      <th>amount</th>\n",
       "      <th>offer_id</th>\n",
       "      <th>offer completed</th>\n",
       "      <th>offer received</th>\n",
       "      <th>offer viewed</th>\n",
       "      <th>transaction</th>\n",
       "      <th>reward</th>\n",
       "      <th>difficulty</th>\n",
       "      <th>duration</th>\n",
       "      <th>offer_type</th>\n",
       "      <th>email</th>\n",
       "      <th>mobile</th>\n",
       "      <th>social</th>\n",
       "      <th>web</th>\n",
       "      <th>bogo</th>\n",
       "      <th>discount</th>\n",
       "      <th>informational</th>\n",
       "    </tr>\n",
       "  </thead>\n",
       "  <tbody>\n",
       "    <tr>\n",
       "      <th>0</th>\n",
       "      <td>78afa995795e4d85b5d9ceeca43f5fef</td>\n",
       "      <td>0</td>\n",
       "      <td>0.00</td>\n",
       "      <td>9b98b8c7a33c4b65b9aebfe6a799e6d9</td>\n",
       "      <td>False</td>\n",
       "      <td>True</td>\n",
       "      <td>False</td>\n",
       "      <td>False</td>\n",
       "      <td>5.0</td>\n",
       "      <td>5.0</td>\n",
       "      <td>7.0</td>\n",
       "      <td>bogo</td>\n",
       "      <td>1.0</td>\n",
       "      <td>1.0</td>\n",
       "      <td>0.0</td>\n",
       "      <td>1.0</td>\n",
       "      <td>True</td>\n",
       "      <td>False</td>\n",
       "      <td>False</td>\n",
       "    </tr>\n",
       "    <tr>\n",
       "      <th>1</th>\n",
       "      <td>a03223e636434f42ac4c3df47e8bac43</td>\n",
       "      <td>0</td>\n",
       "      <td>0.00</td>\n",
       "      <td>0b1e1539f2cc45b7b9fa7c272da2e1d7</td>\n",
       "      <td>False</td>\n",
       "      <td>True</td>\n",
       "      <td>False</td>\n",
       "      <td>False</td>\n",
       "      <td>5.0</td>\n",
       "      <td>20.0</td>\n",
       "      <td>10.0</td>\n",
       "      <td>discount</td>\n",
       "      <td>1.0</td>\n",
       "      <td>0.0</td>\n",
       "      <td>0.0</td>\n",
       "      <td>1.0</td>\n",
       "      <td>False</td>\n",
       "      <td>True</td>\n",
       "      <td>False</td>\n",
       "    </tr>\n",
       "    <tr>\n",
       "      <th>2</th>\n",
       "      <td>e2127556f4f64592b11af22de27a7932</td>\n",
       "      <td>0</td>\n",
       "      <td>0.00</td>\n",
       "      <td>2906b810c7d4411798c6938adc9daaa5</td>\n",
       "      <td>False</td>\n",
       "      <td>True</td>\n",
       "      <td>False</td>\n",
       "      <td>False</td>\n",
       "      <td>2.0</td>\n",
       "      <td>10.0</td>\n",
       "      <td>7.0</td>\n",
       "      <td>discount</td>\n",
       "      <td>1.0</td>\n",
       "      <td>1.0</td>\n",
       "      <td>0.0</td>\n",
       "      <td>1.0</td>\n",
       "      <td>False</td>\n",
       "      <td>True</td>\n",
       "      <td>False</td>\n",
       "    </tr>\n",
       "    <tr>\n",
       "      <th>3</th>\n",
       "      <td>8ec6ce2a7e7949b1bf142def7d0e0586</td>\n",
       "      <td>0</td>\n",
       "      <td>0.00</td>\n",
       "      <td>fafdcd668e3743c1bb461111dcafc2a4</td>\n",
       "      <td>False</td>\n",
       "      <td>True</td>\n",
       "      <td>False</td>\n",
       "      <td>False</td>\n",
       "      <td>2.0</td>\n",
       "      <td>10.0</td>\n",
       "      <td>10.0</td>\n",
       "      <td>discount</td>\n",
       "      <td>1.0</td>\n",
       "      <td>1.0</td>\n",
       "      <td>1.0</td>\n",
       "      <td>1.0</td>\n",
       "      <td>False</td>\n",
       "      <td>True</td>\n",
       "      <td>False</td>\n",
       "    </tr>\n",
       "    <tr>\n",
       "      <th>4</th>\n",
       "      <td>68617ca6246f4fbc85e91a2a49552598</td>\n",
       "      <td>0</td>\n",
       "      <td>0.00</td>\n",
       "      <td>4d5c57ea9a6940dd891ad53e9dbe8da0</td>\n",
       "      <td>False</td>\n",
       "      <td>True</td>\n",
       "      <td>False</td>\n",
       "      <td>False</td>\n",
       "      <td>10.0</td>\n",
       "      <td>10.0</td>\n",
       "      <td>5.0</td>\n",
       "      <td>bogo</td>\n",
       "      <td>1.0</td>\n",
       "      <td>1.0</td>\n",
       "      <td>1.0</td>\n",
       "      <td>1.0</td>\n",
       "      <td>True</td>\n",
       "      <td>False</td>\n",
       "      <td>False</td>\n",
       "    </tr>\n",
       "    <tr>\n",
       "      <th>...</th>\n",
       "      <td>...</td>\n",
       "      <td>...</td>\n",
       "      <td>...</td>\n",
       "      <td>...</td>\n",
       "      <td>...</td>\n",
       "      <td>...</td>\n",
       "      <td>...</td>\n",
       "      <td>...</td>\n",
       "      <td>...</td>\n",
       "      <td>...</td>\n",
       "      <td>...</td>\n",
       "      <td>...</td>\n",
       "      <td>...</td>\n",
       "      <td>...</td>\n",
       "      <td>...</td>\n",
       "      <td>...</td>\n",
       "      <td>...</td>\n",
       "      <td>...</td>\n",
       "      <td>...</td>\n",
       "    </tr>\n",
       "    <tr>\n",
       "      <th>306529</th>\n",
       "      <td>b3a1272bc9904337b331bf348c3e8c17</td>\n",
       "      <td>714</td>\n",
       "      <td>1.59</td>\n",
       "      <td>None</td>\n",
       "      <td>False</td>\n",
       "      <td>False</td>\n",
       "      <td>False</td>\n",
       "      <td>True</td>\n",
       "      <td>NaN</td>\n",
       "      <td>NaN</td>\n",
       "      <td>NaN</td>\n",
       "      <td>NaN</td>\n",
       "      <td>NaN</td>\n",
       "      <td>NaN</td>\n",
       "      <td>NaN</td>\n",
       "      <td>NaN</td>\n",
       "      <td>NaN</td>\n",
       "      <td>NaN</td>\n",
       "      <td>NaN</td>\n",
       "    </tr>\n",
       "    <tr>\n",
       "      <th>306530</th>\n",
       "      <td>68213b08d99a4ae1b0dcb72aebd9aa35</td>\n",
       "      <td>714</td>\n",
       "      <td>9.53</td>\n",
       "      <td>None</td>\n",
       "      <td>False</td>\n",
       "      <td>False</td>\n",
       "      <td>False</td>\n",
       "      <td>True</td>\n",
       "      <td>NaN</td>\n",
       "      <td>NaN</td>\n",
       "      <td>NaN</td>\n",
       "      <td>NaN</td>\n",
       "      <td>NaN</td>\n",
       "      <td>NaN</td>\n",
       "      <td>NaN</td>\n",
       "      <td>NaN</td>\n",
       "      <td>NaN</td>\n",
       "      <td>NaN</td>\n",
       "      <td>NaN</td>\n",
       "    </tr>\n",
       "    <tr>\n",
       "      <th>306531</th>\n",
       "      <td>a00058cf10334a308c68e7631c529907</td>\n",
       "      <td>714</td>\n",
       "      <td>3.61</td>\n",
       "      <td>None</td>\n",
       "      <td>False</td>\n",
       "      <td>False</td>\n",
       "      <td>False</td>\n",
       "      <td>True</td>\n",
       "      <td>NaN</td>\n",
       "      <td>NaN</td>\n",
       "      <td>NaN</td>\n",
       "      <td>NaN</td>\n",
       "      <td>NaN</td>\n",
       "      <td>NaN</td>\n",
       "      <td>NaN</td>\n",
       "      <td>NaN</td>\n",
       "      <td>NaN</td>\n",
       "      <td>NaN</td>\n",
       "      <td>NaN</td>\n",
       "    </tr>\n",
       "    <tr>\n",
       "      <th>306532</th>\n",
       "      <td>76ddbd6576844afe811f1a3c0fbb5bec</td>\n",
       "      <td>714</td>\n",
       "      <td>3.53</td>\n",
       "      <td>None</td>\n",
       "      <td>False</td>\n",
       "      <td>False</td>\n",
       "      <td>False</td>\n",
       "      <td>True</td>\n",
       "      <td>NaN</td>\n",
       "      <td>NaN</td>\n",
       "      <td>NaN</td>\n",
       "      <td>NaN</td>\n",
       "      <td>NaN</td>\n",
       "      <td>NaN</td>\n",
       "      <td>NaN</td>\n",
       "      <td>NaN</td>\n",
       "      <td>NaN</td>\n",
       "      <td>NaN</td>\n",
       "      <td>NaN</td>\n",
       "    </tr>\n",
       "    <tr>\n",
       "      <th>306533</th>\n",
       "      <td>c02b10e8752c4d8e9b73f918558531f7</td>\n",
       "      <td>714</td>\n",
       "      <td>4.05</td>\n",
       "      <td>None</td>\n",
       "      <td>False</td>\n",
       "      <td>False</td>\n",
       "      <td>False</td>\n",
       "      <td>True</td>\n",
       "      <td>NaN</td>\n",
       "      <td>NaN</td>\n",
       "      <td>NaN</td>\n",
       "      <td>NaN</td>\n",
       "      <td>NaN</td>\n",
       "      <td>NaN</td>\n",
       "      <td>NaN</td>\n",
       "      <td>NaN</td>\n",
       "      <td>NaN</td>\n",
       "      <td>NaN</td>\n",
       "      <td>NaN</td>\n",
       "    </tr>\n",
       "  </tbody>\n",
       "</table>\n",
       "<p>306534 rows × 19 columns</p>\n",
       "</div>"
      ],
      "text/plain": [
       "                                  person  time  amount   \n",
       "0       78afa995795e4d85b5d9ceeca43f5fef     0    0.00  \\\n",
       "1       a03223e636434f42ac4c3df47e8bac43     0    0.00   \n",
       "2       e2127556f4f64592b11af22de27a7932     0    0.00   \n",
       "3       8ec6ce2a7e7949b1bf142def7d0e0586     0    0.00   \n",
       "4       68617ca6246f4fbc85e91a2a49552598     0    0.00   \n",
       "...                                  ...   ...     ...   \n",
       "306529  b3a1272bc9904337b331bf348c3e8c17   714    1.59   \n",
       "306530  68213b08d99a4ae1b0dcb72aebd9aa35   714    9.53   \n",
       "306531  a00058cf10334a308c68e7631c529907   714    3.61   \n",
       "306532  76ddbd6576844afe811f1a3c0fbb5bec   714    3.53   \n",
       "306533  c02b10e8752c4d8e9b73f918558531f7   714    4.05   \n",
       "\n",
       "                                offer_id  offer completed  offer received   \n",
       "0       9b98b8c7a33c4b65b9aebfe6a799e6d9            False            True  \\\n",
       "1       0b1e1539f2cc45b7b9fa7c272da2e1d7            False            True   \n",
       "2       2906b810c7d4411798c6938adc9daaa5            False            True   \n",
       "3       fafdcd668e3743c1bb461111dcafc2a4            False            True   \n",
       "4       4d5c57ea9a6940dd891ad53e9dbe8da0            False            True   \n",
       "...                                  ...              ...             ...   \n",
       "306529                              None            False           False   \n",
       "306530                              None            False           False   \n",
       "306531                              None            False           False   \n",
       "306532                              None            False           False   \n",
       "306533                              None            False           False   \n",
       "\n",
       "        offer viewed  transaction  reward  difficulty  duration offer_type   \n",
       "0              False        False     5.0         5.0       7.0       bogo  \\\n",
       "1              False        False     5.0        20.0      10.0   discount   \n",
       "2              False        False     2.0        10.0       7.0   discount   \n",
       "3              False        False     2.0        10.0      10.0   discount   \n",
       "4              False        False    10.0        10.0       5.0       bogo   \n",
       "...              ...          ...     ...         ...       ...        ...   \n",
       "306529         False         True     NaN         NaN       NaN        NaN   \n",
       "306530         False         True     NaN         NaN       NaN        NaN   \n",
       "306531         False         True     NaN         NaN       NaN        NaN   \n",
       "306532         False         True     NaN         NaN       NaN        NaN   \n",
       "306533         False         True     NaN         NaN       NaN        NaN   \n",
       "\n",
       "        email  mobile  social  web   bogo discount informational  \n",
       "0         1.0     1.0     0.0  1.0   True    False         False  \n",
       "1         1.0     0.0     0.0  1.0  False     True         False  \n",
       "2         1.0     1.0     0.0  1.0  False     True         False  \n",
       "3         1.0     1.0     1.0  1.0  False     True         False  \n",
       "4         1.0     1.0     1.0  1.0   True    False         False  \n",
       "...       ...     ...     ...  ...    ...      ...           ...  \n",
       "306529    NaN     NaN     NaN  NaN    NaN      NaN           NaN  \n",
       "306530    NaN     NaN     NaN  NaN    NaN      NaN           NaN  \n",
       "306531    NaN     NaN     NaN  NaN    NaN      NaN           NaN  \n",
       "306532    NaN     NaN     NaN  NaN    NaN      NaN           NaN  \n",
       "306533    NaN     NaN     NaN  NaN    NaN      NaN           NaN  \n",
       "\n",
       "[306534 rows x 19 columns]"
      ]
     },
     "execution_count": 26,
     "metadata": {},
     "output_type": "execute_result"
    }
   ],
   "source": [
    "#Combine all dataframes together\n",
    "\n",
    "transcript_portfolio_new = transcript_new.merge(portfolio_new, how='left', left_on='offer_id', right_on='id').drop(columns={'id',\"channels\"})\n",
    "transcript_portfolio_new"
   ]
  },
  {
   "cell_type": "code",
   "execution_count": 27,
   "metadata": {},
   "outputs": [
    {
     "data": {
      "text/html": [
       "<div>\n",
       "<style scoped>\n",
       "    .dataframe tbody tr th:only-of-type {\n",
       "        vertical-align: middle;\n",
       "    }\n",
       "\n",
       "    .dataframe tbody tr th {\n",
       "        vertical-align: top;\n",
       "    }\n",
       "\n",
       "    .dataframe thead th {\n",
       "        text-align: right;\n",
       "    }\n",
       "</style>\n",
       "<table border=\"1\" class=\"dataframe\">\n",
       "  <thead>\n",
       "    <tr style=\"text-align: right;\">\n",
       "      <th></th>\n",
       "      <th>person</th>\n",
       "      <th>time</th>\n",
       "      <th>amount</th>\n",
       "      <th>offer_id</th>\n",
       "      <th>offer completed</th>\n",
       "      <th>offer received</th>\n",
       "      <th>offer viewed</th>\n",
       "      <th>transaction</th>\n",
       "      <th>reward</th>\n",
       "      <th>difficulty</th>\n",
       "      <th>...</th>\n",
       "      <th>mobile</th>\n",
       "      <th>social</th>\n",
       "      <th>web</th>\n",
       "      <th>bogo</th>\n",
       "      <th>discount</th>\n",
       "      <th>informational</th>\n",
       "      <th>gender</th>\n",
       "      <th>age</th>\n",
       "      <th>became_member_on</th>\n",
       "      <th>income</th>\n",
       "    </tr>\n",
       "  </thead>\n",
       "  <tbody>\n",
       "    <tr>\n",
       "      <th>0</th>\n",
       "      <td>78afa995795e4d85b5d9ceeca43f5fef</td>\n",
       "      <td>0</td>\n",
       "      <td>0.00</td>\n",
       "      <td>9b98b8c7a33c4b65b9aebfe6a799e6d9</td>\n",
       "      <td>False</td>\n",
       "      <td>True</td>\n",
       "      <td>False</td>\n",
       "      <td>False</td>\n",
       "      <td>5.0</td>\n",
       "      <td>5.0</td>\n",
       "      <td>...</td>\n",
       "      <td>1.0</td>\n",
       "      <td>0.0</td>\n",
       "      <td>1.0</td>\n",
       "      <td>True</td>\n",
       "      <td>False</td>\n",
       "      <td>False</td>\n",
       "      <td>F</td>\n",
       "      <td>75</td>\n",
       "      <td>20170509</td>\n",
       "      <td>100000.0</td>\n",
       "    </tr>\n",
       "    <tr>\n",
       "      <th>1</th>\n",
       "      <td>78afa995795e4d85b5d9ceeca43f5fef</td>\n",
       "      <td>6</td>\n",
       "      <td>0.00</td>\n",
       "      <td>9b98b8c7a33c4b65b9aebfe6a799e6d9</td>\n",
       "      <td>False</td>\n",
       "      <td>False</td>\n",
       "      <td>True</td>\n",
       "      <td>False</td>\n",
       "      <td>5.0</td>\n",
       "      <td>5.0</td>\n",
       "      <td>...</td>\n",
       "      <td>1.0</td>\n",
       "      <td>0.0</td>\n",
       "      <td>1.0</td>\n",
       "      <td>True</td>\n",
       "      <td>False</td>\n",
       "      <td>False</td>\n",
       "      <td>F</td>\n",
       "      <td>75</td>\n",
       "      <td>20170509</td>\n",
       "      <td>100000.0</td>\n",
       "    </tr>\n",
       "    <tr>\n",
       "      <th>2</th>\n",
       "      <td>78afa995795e4d85b5d9ceeca43f5fef</td>\n",
       "      <td>132</td>\n",
       "      <td>19.89</td>\n",
       "      <td>None</td>\n",
       "      <td>False</td>\n",
       "      <td>False</td>\n",
       "      <td>False</td>\n",
       "      <td>True</td>\n",
       "      <td>0.0</td>\n",
       "      <td>0.0</td>\n",
       "      <td>...</td>\n",
       "      <td>0.0</td>\n",
       "      <td>0.0</td>\n",
       "      <td>0.0</td>\n",
       "      <td>0</td>\n",
       "      <td>0</td>\n",
       "      <td>0</td>\n",
       "      <td>F</td>\n",
       "      <td>75</td>\n",
       "      <td>20170509</td>\n",
       "      <td>100000.0</td>\n",
       "    </tr>\n",
       "    <tr>\n",
       "      <th>3</th>\n",
       "      <td>78afa995795e4d85b5d9ceeca43f5fef</td>\n",
       "      <td>132</td>\n",
       "      <td>0.00</td>\n",
       "      <td>9b98b8c7a33c4b65b9aebfe6a799e6d9</td>\n",
       "      <td>True</td>\n",
       "      <td>False</td>\n",
       "      <td>False</td>\n",
       "      <td>False</td>\n",
       "      <td>5.0</td>\n",
       "      <td>5.0</td>\n",
       "      <td>...</td>\n",
       "      <td>1.0</td>\n",
       "      <td>0.0</td>\n",
       "      <td>1.0</td>\n",
       "      <td>True</td>\n",
       "      <td>False</td>\n",
       "      <td>False</td>\n",
       "      <td>F</td>\n",
       "      <td>75</td>\n",
       "      <td>20170509</td>\n",
       "      <td>100000.0</td>\n",
       "    </tr>\n",
       "    <tr>\n",
       "      <th>4</th>\n",
       "      <td>78afa995795e4d85b5d9ceeca43f5fef</td>\n",
       "      <td>144</td>\n",
       "      <td>17.78</td>\n",
       "      <td>None</td>\n",
       "      <td>False</td>\n",
       "      <td>False</td>\n",
       "      <td>False</td>\n",
       "      <td>True</td>\n",
       "      <td>0.0</td>\n",
       "      <td>0.0</td>\n",
       "      <td>...</td>\n",
       "      <td>0.0</td>\n",
       "      <td>0.0</td>\n",
       "      <td>0.0</td>\n",
       "      <td>0</td>\n",
       "      <td>0</td>\n",
       "      <td>0</td>\n",
       "      <td>F</td>\n",
       "      <td>75</td>\n",
       "      <td>20170509</td>\n",
       "      <td>100000.0</td>\n",
       "    </tr>\n",
       "    <tr>\n",
       "      <th>...</th>\n",
       "      <td>...</td>\n",
       "      <td>...</td>\n",
       "      <td>...</td>\n",
       "      <td>...</td>\n",
       "      <td>...</td>\n",
       "      <td>...</td>\n",
       "      <td>...</td>\n",
       "      <td>...</td>\n",
       "      <td>...</td>\n",
       "      <td>...</td>\n",
       "      <td>...</td>\n",
       "      <td>...</td>\n",
       "      <td>...</td>\n",
       "      <td>...</td>\n",
       "      <td>...</td>\n",
       "      <td>...</td>\n",
       "      <td>...</td>\n",
       "      <td>...</td>\n",
       "      <td>...</td>\n",
       "      <td>...</td>\n",
       "      <td>...</td>\n",
       "    </tr>\n",
       "    <tr>\n",
       "      <th>272757</th>\n",
       "      <td>9fcbff4f8d7241faa4ab8a9d19c8a812</td>\n",
       "      <td>504</td>\n",
       "      <td>0.00</td>\n",
       "      <td>3f207df678b143eea3cee63160fa8bed</td>\n",
       "      <td>False</td>\n",
       "      <td>False</td>\n",
       "      <td>True</td>\n",
       "      <td>False</td>\n",
       "      <td>0.0</td>\n",
       "      <td>0.0</td>\n",
       "      <td>...</td>\n",
       "      <td>1.0</td>\n",
       "      <td>0.0</td>\n",
       "      <td>1.0</td>\n",
       "      <td>False</td>\n",
       "      <td>False</td>\n",
       "      <td>True</td>\n",
       "      <td>M</td>\n",
       "      <td>47</td>\n",
       "      <td>20171013</td>\n",
       "      <td>94000.0</td>\n",
       "    </tr>\n",
       "    <tr>\n",
       "      <th>272758</th>\n",
       "      <td>9fcbff4f8d7241faa4ab8a9d19c8a812</td>\n",
       "      <td>576</td>\n",
       "      <td>0.00</td>\n",
       "      <td>4d5c57ea9a6940dd891ad53e9dbe8da0</td>\n",
       "      <td>False</td>\n",
       "      <td>True</td>\n",
       "      <td>False</td>\n",
       "      <td>False</td>\n",
       "      <td>10.0</td>\n",
       "      <td>10.0</td>\n",
       "      <td>...</td>\n",
       "      <td>1.0</td>\n",
       "      <td>1.0</td>\n",
       "      <td>1.0</td>\n",
       "      <td>True</td>\n",
       "      <td>False</td>\n",
       "      <td>False</td>\n",
       "      <td>M</td>\n",
       "      <td>47</td>\n",
       "      <td>20171013</td>\n",
       "      <td>94000.0</td>\n",
       "    </tr>\n",
       "    <tr>\n",
       "      <th>272759</th>\n",
       "      <td>9fcbff4f8d7241faa4ab8a9d19c8a812</td>\n",
       "      <td>576</td>\n",
       "      <td>0.00</td>\n",
       "      <td>4d5c57ea9a6940dd891ad53e9dbe8da0</td>\n",
       "      <td>False</td>\n",
       "      <td>False</td>\n",
       "      <td>True</td>\n",
       "      <td>False</td>\n",
       "      <td>10.0</td>\n",
       "      <td>10.0</td>\n",
       "      <td>...</td>\n",
       "      <td>1.0</td>\n",
       "      <td>1.0</td>\n",
       "      <td>1.0</td>\n",
       "      <td>True</td>\n",
       "      <td>False</td>\n",
       "      <td>False</td>\n",
       "      <td>M</td>\n",
       "      <td>47</td>\n",
       "      <td>20171013</td>\n",
       "      <td>94000.0</td>\n",
       "    </tr>\n",
       "    <tr>\n",
       "      <th>272760</th>\n",
       "      <td>3045af4e98794a04a5542d3eac939b1f</td>\n",
       "      <td>576</td>\n",
       "      <td>0.00</td>\n",
       "      <td>4d5c57ea9a6940dd891ad53e9dbe8da0</td>\n",
       "      <td>False</td>\n",
       "      <td>True</td>\n",
       "      <td>False</td>\n",
       "      <td>False</td>\n",
       "      <td>10.0</td>\n",
       "      <td>10.0</td>\n",
       "      <td>...</td>\n",
       "      <td>1.0</td>\n",
       "      <td>1.0</td>\n",
       "      <td>1.0</td>\n",
       "      <td>True</td>\n",
       "      <td>False</td>\n",
       "      <td>False</td>\n",
       "      <td>F</td>\n",
       "      <td>58</td>\n",
       "      <td>20161020</td>\n",
       "      <td>78000.0</td>\n",
       "    </tr>\n",
       "    <tr>\n",
       "      <th>272761</th>\n",
       "      <td>3045af4e98794a04a5542d3eac939b1f</td>\n",
       "      <td>576</td>\n",
       "      <td>0.00</td>\n",
       "      <td>4d5c57ea9a6940dd891ad53e9dbe8da0</td>\n",
       "      <td>False</td>\n",
       "      <td>False</td>\n",
       "      <td>True</td>\n",
       "      <td>False</td>\n",
       "      <td>10.0</td>\n",
       "      <td>10.0</td>\n",
       "      <td>...</td>\n",
       "      <td>1.0</td>\n",
       "      <td>1.0</td>\n",
       "      <td>1.0</td>\n",
       "      <td>True</td>\n",
       "      <td>False</td>\n",
       "      <td>False</td>\n",
       "      <td>F</td>\n",
       "      <td>58</td>\n",
       "      <td>20161020</td>\n",
       "      <td>78000.0</td>\n",
       "    </tr>\n",
       "  </tbody>\n",
       "</table>\n",
       "<p>272762 rows × 23 columns</p>\n",
       "</div>"
      ],
      "text/plain": [
       "                                  person  time  amount   \n",
       "0       78afa995795e4d85b5d9ceeca43f5fef     0    0.00  \\\n",
       "1       78afa995795e4d85b5d9ceeca43f5fef     6    0.00   \n",
       "2       78afa995795e4d85b5d9ceeca43f5fef   132   19.89   \n",
       "3       78afa995795e4d85b5d9ceeca43f5fef   132    0.00   \n",
       "4       78afa995795e4d85b5d9ceeca43f5fef   144   17.78   \n",
       "...                                  ...   ...     ...   \n",
       "272757  9fcbff4f8d7241faa4ab8a9d19c8a812   504    0.00   \n",
       "272758  9fcbff4f8d7241faa4ab8a9d19c8a812   576    0.00   \n",
       "272759  9fcbff4f8d7241faa4ab8a9d19c8a812   576    0.00   \n",
       "272760  3045af4e98794a04a5542d3eac939b1f   576    0.00   \n",
       "272761  3045af4e98794a04a5542d3eac939b1f   576    0.00   \n",
       "\n",
       "                                offer_id  offer completed  offer received   \n",
       "0       9b98b8c7a33c4b65b9aebfe6a799e6d9            False            True  \\\n",
       "1       9b98b8c7a33c4b65b9aebfe6a799e6d9            False           False   \n",
       "2                                   None            False           False   \n",
       "3       9b98b8c7a33c4b65b9aebfe6a799e6d9             True           False   \n",
       "4                                   None            False           False   \n",
       "...                                  ...              ...             ...   \n",
       "272757  3f207df678b143eea3cee63160fa8bed            False           False   \n",
       "272758  4d5c57ea9a6940dd891ad53e9dbe8da0            False            True   \n",
       "272759  4d5c57ea9a6940dd891ad53e9dbe8da0            False           False   \n",
       "272760  4d5c57ea9a6940dd891ad53e9dbe8da0            False            True   \n",
       "272761  4d5c57ea9a6940dd891ad53e9dbe8da0            False           False   \n",
       "\n",
       "        offer viewed  transaction  reward  difficulty  ...  mobile social   \n",
       "0              False        False     5.0         5.0  ...     1.0    0.0  \\\n",
       "1               True        False     5.0         5.0  ...     1.0    0.0   \n",
       "2              False         True     0.0         0.0  ...     0.0    0.0   \n",
       "3              False        False     5.0         5.0  ...     1.0    0.0   \n",
       "4              False         True     0.0         0.0  ...     0.0    0.0   \n",
       "...              ...          ...     ...         ...  ...     ...    ...   \n",
       "272757          True        False     0.0         0.0  ...     1.0    0.0   \n",
       "272758         False        False    10.0        10.0  ...     1.0    1.0   \n",
       "272759          True        False    10.0        10.0  ...     1.0    1.0   \n",
       "272760         False        False    10.0        10.0  ...     1.0    1.0   \n",
       "272761          True        False    10.0        10.0  ...     1.0    1.0   \n",
       "\n",
       "        web   bogo  discount  informational gender age became_member_on   \n",
       "0       1.0   True     False          False      F  75         20170509  \\\n",
       "1       1.0   True     False          False      F  75         20170509   \n",
       "2       0.0      0         0              0      F  75         20170509   \n",
       "3       1.0   True     False          False      F  75         20170509   \n",
       "4       0.0      0         0              0      F  75         20170509   \n",
       "...     ...    ...       ...            ...    ...  ..              ...   \n",
       "272757  1.0  False     False           True      M  47         20171013   \n",
       "272758  1.0   True     False          False      M  47         20171013   \n",
       "272759  1.0   True     False          False      M  47         20171013   \n",
       "272760  1.0   True     False          False      F  58         20161020   \n",
       "272761  1.0   True     False          False      F  58         20161020   \n",
       "\n",
       "          income  \n",
       "0       100000.0  \n",
       "1       100000.0  \n",
       "2       100000.0  \n",
       "3       100000.0  \n",
       "4       100000.0  \n",
       "...          ...  \n",
       "272757   94000.0  \n",
       "272758   94000.0  \n",
       "272759   94000.0  \n",
       "272760   78000.0  \n",
       "272761   78000.0  \n",
       "\n",
       "[272762 rows x 23 columns]"
      ]
     },
     "execution_count": 27,
     "metadata": {},
     "output_type": "execute_result"
    }
   ],
   "source": [
    "#Merge final dataframe so we get transaction on all profiles \n",
    "\n",
    "df = transcript_portfolio_new.merge(profile_new,left_on='person', right_on='id').drop(columns='id').fillna(0)\n",
    "df"
   ]
  },
  {
   "cell_type": "markdown",
   "metadata": {},
   "source": [
    "### Exploratory Data Analysis"
   ]
  },
  {
   "cell_type": "code",
   "execution_count": 28,
   "metadata": {},
   "outputs": [],
   "source": [
    "#Exploratory Data Analysis\n",
    "df['age_ranges'] = pd.cut(df[\"age\"], bins=[10, 20, 30, 40, 50, 60, 70, 80, 90, 100, 102])\n",
    "df['income_ranges'] = pd.cut(df[\"income\"], bins=[20000,40000,60000,80000,100000,120000])\n",
    "#Look at data where transactions had offers completed\n",
    "#Look at offer type of successful offer completions, channels, difficulty, duration and reward\n",
    "#print(df.loc[df['offer completed']==1,'amount'].sum())\n"
   ]
  },
  {
   "cell_type": "markdown",
   "metadata": {},
   "source": [
    "$0 is spent when transactions do not take place, which makes sense."
   ]
  },
  {
   "cell_type": "code",
   "execution_count": 29,
   "metadata": {},
   "outputs": [
    {
     "name": "stdout",
     "output_type": "stream",
     "text": [
      "Average spend for transactions with no offer: 14.00\n",
      "Total number of offers received: 66501\n",
      "Total number of offers viewed: 49860\n",
      "Total number of completed offers: 32444\n",
      "Percentage of completed offers after receiving an offer: 21.80%\n",
      "Average minimum spend to complete offer for offers received: 7.71\n",
      "Average minimum spend to complete offer for offers viewed: 7.20\n",
      "Average minimum spend to complete offer for completed offers: 9.31\n",
      "Average minimum reward for offers received: 4.20\n",
      "Average minimum reward for offers viewed: 4.44\n",
      "Average minimum reward for completed offers: 4.95\n"
     ]
    }
   ],
   "source": [
    "#Find offer completion rates compared to offer receipts\n",
    "no_reward_transaction_avg = df.loc[df['transaction']==1, 'amount'].mean()\n",
    "print(\"Average spend for transactions with no offer: {0:.2f}\".format(no_reward_transaction_avg))\n",
    "\n",
    "offer_received = df['offer received'].sum()\n",
    "offer_completed = df['offer completed'].sum()\n",
    "offer_viewed = df['offer viewed'].sum()\n",
    "\n",
    "percent_completed = offer_completed/(offer_received+offer_viewed+offer_completed)*100\n",
    "\n",
    "print(\"Total number of offers received: {}\".format(offer_received))\n",
    "print(\"Total number of offers viewed: {}\".format(offer_viewed)) \n",
    "print(\"Total number of completed offers: {}\".format(offer_completed))\n",
    "print(\"Percentage of completed offers after receiving an offer: {0:.2f}%\".format(percent_completed))\n",
    "\n",
    "offer_received_difficulty  = df.loc[df['offer received'] == 1, 'difficulty'].mean()\n",
    "offer_completed_difficulty = df.loc[df['offer completed'] == 1, 'difficulty'].mean()\n",
    "offer_viewed_difficulty = df.loc[df['offer viewed'] == 1, 'difficulty'].mean()\n",
    "\n",
    "print(\"Average minimum spend to complete offer for offers received: {0:.2f}\".format(offer_received_difficulty))\n",
    "print(\"Average minimum spend to complete offer for offers viewed: {0:.2f}\".format(offer_viewed_difficulty)) \n",
    "print(\"Average minimum spend to complete offer for completed offers: {0:.2f}\".format(offer_completed_difficulty))\n",
    "\n",
    "offer_received_reward  = df.loc[df['offer received'] == 1, 'reward'].mean()\n",
    "offer_completed_reward = df.loc[df['offer completed'] == 1, 'reward'].mean()\n",
    "offer_viewed_reward = df.loc[df['offer viewed'] == 1, 'reward'].mean()\n",
    "\n",
    "print(\"Average minimum reward for offers received: {0:.2f}\".format(offer_received_reward))\n",
    "print(\"Average minimum reward for offers viewed: {0:.2f}\".format(offer_viewed_reward)) \n",
    "print(\"Average minimum reward for completed offers: {0:.2f}\".format(offer_completed_reward))\n"
   ]
  },
  {
   "cell_type": "code",
   "execution_count": 30,
   "metadata": {},
   "outputs": [
    {
     "data": {
      "text/plain": [
       "Text(0.5, 1.0, 'Offer Completions by Gender')"
      ]
     },
     "execution_count": 30,
     "metadata": {},
     "output_type": "execute_result"
    },
    {
     "data": {
      "image/png": "[encoded data removed]",
      "text/plain": [
       "<Figure size 640x480 with 1 Axes>"
      ]
     },
     "metadata": {},
     "output_type": "display_data"
    }
   ],
   "source": [
    "#Dive deeper into the demographics of those who completed offers\n",
    "#Breakdown of customers by gender\n",
    "df.loc[df['offer completed'] == 1,\"gender\"].value_counts().plot.bar().set_title(\"Offer Completions by Gender\")\n"
   ]
  },
  {
   "cell_type": "code",
   "execution_count": 31,
   "metadata": {},
   "outputs": [
    {
     "data": {
      "text/plain": [
       "Text(0.5, 0, 'Age')"
      ]
     },
     "execution_count": 31,
     "metadata": {},
     "output_type": "execute_result"
    },
    {
     "data": {
      "image/png": "[encoded data removed]",
      "text/plain": [
       "<Figure size 640x480 with 1 Axes>"
      ]
     },
     "metadata": {},
     "output_type": "display_data"
    }
   ],
   "source": [
    "#Breakdown of customers by age for Males\n",
    "df.loc[(df['offer completed'] == 1) & (df['gender'] == \"M\"),\"age\"].plot(kind='hist', bins=30, title='Offer Completions by Age for Males').set_xlabel(\"Age\")"
   ]
  },
  {
   "cell_type": "code",
   "execution_count": 32,
   "metadata": {},
   "outputs": [
    {
     "data": {
      "text/plain": [
       "Text(0.5, 0, 'Age')"
      ]
     },
     "execution_count": 32,
     "metadata": {},
     "output_type": "execute_result"
    },
    {
     "data": {
      "image/png": "[encoded data removed]",
      "text/plain": [
       "<Figure size 640x480 with 1 Axes>"
      ]
     },
     "metadata": {},
     "output_type": "display_data"
    }
   ],
   "source": [
    "#Breakdown of customers by age for Females\n",
    "df.loc[(df['offer completed'] == 1) & (df['gender'] == \"F\"),\"age\"].plot(kind='hist', bins=30, title='Offer Completions by Age for Females').set_xlabel(\"Age\")"
   ]
  },
  {
   "cell_type": "code",
   "execution_count": 33,
   "metadata": {},
   "outputs": [
    {
     "name": "stdout",
     "output_type": "stream",
     "text": [
      "Text(0.5, 0, 'Income')\n"
     ]
    },
    {
     "data": {
      "image/png": "[encoded data removed]",
      "text/plain": [
       "<Figure size 640x480 with 1 Axes>"
      ]
     },
     "metadata": {},
     "output_type": "display_data"
    }
   ],
   "source": [
    "#Breakdown of customers by income groups\n",
    "print(df.loc[(df['offer completed'] == 1) & (df['gender'] == \"M\"),\"age\"].plot(kind='hist', bins=30, title='Income of Male Customers').set_xlabel(\"Income\"))"
   ]
  },
  {
   "cell_type": "code",
   "execution_count": 34,
   "metadata": {},
   "outputs": [
    {
     "name": "stdout",
     "output_type": "stream",
     "text": [
      "Text(0.5, 0, 'Income')\n"
     ]
    },
    {
     "data": {
      "image/png": "[encoded data removed]",
      "text/plain": [
       "<Figure size 640x480 with 1 Axes>"
      ]
     },
     "metadata": {},
     "output_type": "display_data"
    }
   ],
   "source": [
    "print(df.loc[(df['offer completed'] == 1) & (df['gender'] == \"F\"),\"age\"].plot(kind='hist', bins=30, title='Income of Female Customers').set_xlabel(\"Income\"))"
   ]
  },
  {
   "cell_type": "markdown",
   "metadata": {},
   "source": [
    "#### There is no discernable difference in the income groups and age of males and females who complete offers."
   ]
  },
  {
   "cell_type": "code",
   "execution_count": 35,
   "metadata": {},
   "outputs": [
    {
     "name": "stdout",
     "output_type": "stream",
     "text": [
      "Percentage of completed offers for bogo: 47.03%\n",
      "Percentage of completed offers for discount: 52.97%\n",
      "Percentage of completed offers for informational: 0.00%\n"
     ]
    }
   ],
   "source": [
    "#Analyze type of completed offers (bogo, discount, informational)\n",
    "\n",
    "bogo = df.loc[df['offer completed'] == 1, 'bogo'].sum()\n",
    "discount  = df.loc[df['offer completed'] == 1, 'discount'].sum()\n",
    "informational = df.loc[df['offer completed'] == 1, 'informational'].sum()\n",
    "\n",
    "perc_bogo = bogo/offer_completed*100\n",
    "perc_discount = discount/offer_completed*100\n",
    "perc_info = informational/offer_completed*100\n",
    "\n",
    "print(\"Percentage of completed offers for bogo: {0:.2f}%\".format(perc_bogo)) \n",
    "print(\"Percentage of completed offers for discount: {0:.2f}%\".format(perc_discount))\n",
    "print(\"Percentage of completed offers for informational: {0:.2f}%\".format(perc_info))"
   ]
  },
  {
   "cell_type": "markdown",
   "metadata": {},
   "source": [
    "#### Interestingly, informational offers did not lead to any completed offers"
   ]
  },
  {
   "cell_type": "code",
   "execution_count": 36,
   "metadata": {},
   "outputs": [
    {
     "name": "stdout",
     "output_type": "stream",
     "text": [
      "Average minimum spend for completed bogo offers: 7.28\n",
      "Average minimum spend for completed discount offers: 11.12\n",
      "Average minimum spend for completed informational offers: nan\n",
      "Average minimum spend for incomplete bogo offers: 7.63\n",
      "Average minimum spend for incomplete discount offers: 11.11\n",
      "Average minimum spend for incomplete informational offers: 0.00\n",
      "Average reward for completed bogo offers: 7.28\n",
      "Average reward for completed discount offers: 2.88\n",
      "Average reward for completed informational offers: nan\n",
      "Average reward for incomplete bogo offers: 7.63\n",
      "Average reward for incomplete discount offers: 2.88\n",
      "Average reward for incomplete informational offers: 0.00\n"
     ]
    }
   ],
   "source": [
    "completed_bogo_difficulty  = df.loc[(df['offer completed'] == 1) & (df['bogo'] == 1), 'difficulty'].mean()\n",
    "completed_discount_difficulty = df.loc[(df['offer completed'] == 1) & (df['discount'] == 1), 'difficulty'].mean()\n",
    "completed_informational_difficulty = df.loc[(df['offer completed'] == 1) & (df['informational'] == 1), 'difficulty'].mean()\n",
    "\n",
    "print(\"Average minimum spend for completed bogo offers: {0:.2f}\".format(completed_bogo_difficulty))\n",
    "print(\"Average minimum spend for completed discount offers: {0:.2f}\".format(completed_discount_difficulty)) \n",
    "print(\"Average minimum spend for completed informational offers: {0:.2f}\".format(completed_informational_difficulty))\n",
    "\n",
    "incomplete_bogo_difficulty  = df.loc[(df['offer completed'] == 0) & (df['bogo'] == 1), 'difficulty'].mean()\n",
    "incomplete_discount_difficulty = df.loc[(df['offer completed'] == 0) & (df['discount'] == 1), 'difficulty'].mean()\n",
    "incompleted_informational_difficulty = df.loc[(df['offer completed'] == 0) & (df['informational'] == 1), 'difficulty'].mean()\n",
    "\n",
    "print(\"Average minimum spend for incomplete bogo offers: {0:.2f}\".format(incomplete_bogo_difficulty))\n",
    "print(\"Average minimum spend for incomplete discount offers: {0:.2f}\".format(incomplete_discount_difficulty)) \n",
    "print(\"Average minimum spend for incomplete informational offers: {0:.2f}\".format(incompleted_informational_difficulty))\n",
    "\n",
    "\n",
    "completed_bogo_reward  = df.loc[(df['offer completed'] == 1) & (df['bogo'] == 1), 'reward'].mean()\n",
    "completed_discount_reward = df.loc[(df['offer completed'] == 1) & (df['discount'] == 1), 'reward'].mean()\n",
    "completed_informational_reward = df.loc[(df['offer completed'] == 1) & (df['informational'] == 1), 'reward'].mean()\n",
    "\n",
    "print(\"Average reward for completed bogo offers: {0:.2f}\".format(completed_bogo_reward))\n",
    "print(\"Average reward for completed discount offers: {0:.2f}\".format(completed_discount_reward)) \n",
    "print(\"Average reward for completed informational offers: {0:.2f}\".format(completed_informational_reward))\n",
    "\n",
    "\n",
    "incomplete_bogo_reward  = df.loc[(df['offer completed'] == 0) & (df['bogo'] == 1), 'reward'].mean()\n",
    "incomplete_discount_reward = df.loc[(df['offer completed'] == 0) & (df['discount'] == 1), 'reward'].mean()\n",
    "incomplete_informational_reward = df.loc[(df['offer completed'] == 0) & (df['informational'] == 1), 'reward'].mean()\n",
    "\n",
    "print(\"Average reward for incomplete bogo offers: {0:.2f}\".format(incomplete_bogo_reward))\n",
    "print(\"Average reward for incomplete discount offers: {0:.2f}\".format(incomplete_discount_reward)) \n",
    "print(\"Average reward for incomplete informational offers: {0:.2f}\".format(incomplete_informational_reward))"
   ]
  },
  {
   "cell_type": "markdown",
   "metadata": {},
   "source": [
    "Some interesting observations. Although discount offers form most of the completed offers, it has the highest spend requirements and the lowest rewards. It also does not matter whether the orders are completed or not, the bogo and discount offers are equal, suggesting the reward size does not impact whether someone responds to an offer.\n",
    "\n",
    "Perhaps different demographics are targeted for different types of offers."
   ]
  },
  {
   "cell_type": "code",
   "execution_count": 37,
   "metadata": {},
   "outputs": [
    {
     "name": "stdout",
     "output_type": "stream",
     "text": [
      "Average time for completed bogo offers: 391.71\n",
      "Average time for completed discount offers: 406.63\n",
      "Average time for incomplete bogo offers: 342.15\n",
      "Average time for incomplete discount offers: 341.46\n"
     ]
    }
   ],
   "source": [
    "#See if duration of offer has an impact on bogo or discount offers being completed\n",
    "\n",
    "bogo_time_complete = df.loc[(df['offer completed'] == 1) & (df['bogo'] == 1), 'time'].mean()\n",
    "discount_time_complete  = df.loc[(df['offer completed'] == 1) & (df['discount'] == 1), 'time'].mean()\n",
    "\n",
    "bogo_time_incomplete = df.loc[(df['offer completed'] == 0) & (df['bogo'] == 1), 'time'].mean()\n",
    "discount_time_incomplete = df.loc[(df['offer completed'] == 0) & (df['discount'] == 1), 'time'].mean()\n",
    "\n",
    "print(\"Average time for completed bogo offers: {0:.2f}\".format(bogo_time_complete))\n",
    "print(\"Average time for completed discount offers: {0:.2f}\".format(discount_time_complete)) \n",
    "print(\"Average time for incomplete bogo offers: {0:.2f}\".format(bogo_time_incomplete))\n",
    "print(\"Average time for incomplete discount offers: {0:.2f}\".format(discount_time_incomplete))"
   ]
  },
  {
   "cell_type": "markdown",
   "metadata": {},
   "source": [
    "#### Time does play a factor in whether an offer is completed. Completed offers were around for a greater length of time."
   ]
  },
  {
   "cell_type": "code",
   "execution_count": 38,
   "metadata": {},
   "outputs": [
    {
     "data": {
      "text/plain": [
       "gender\n",
       "F    7.636493\n",
       "M    5.426751\n",
       "O    6.637255\n",
       "Name: amount, dtype: float64"
      ]
     },
     "execution_count": 38,
     "metadata": {},
     "output_type": "execute_result"
    }
   ],
   "source": [
    "df.groupby(['gender'])['amount'].mean()"
   ]
  },
  {
   "cell_type": "markdown",
   "metadata": {},
   "source": [
    "#### Females on average spend more than males"
   ]
  },
  {
   "cell_type": "code",
   "execution_count": 39,
   "metadata": {},
   "outputs": [
    {
     "data": {
      "text/plain": [
       "gender\n",
       "F    0.136842\n",
       "M    0.105761\n",
       "O    0.126165\n",
       "Name: offer completed, dtype: float64"
      ]
     },
     "execution_count": 39,
     "metadata": {},
     "output_type": "execute_result"
    }
   ],
   "source": [
    "df.groupby(['gender'])['offer completed'].mean()"
   ]
  },
  {
   "cell_type": "code",
   "execution_count": 40,
   "metadata": {},
   "outputs": [
    {
     "data": {
      "text/plain": [
       "income_ranges     age_ranges\n",
       "(20000, 40000]    (10, 20]       2.774843\n",
       "                  (20, 30]       3.519353\n",
       "                  (30, 40]       3.290682\n",
       "                  (40, 50]       3.196894\n",
       "                  (50, 60]       2.905506\n",
       "                  (60, 70]       3.344358\n",
       "                  (70, 80]       3.515567\n",
       "                  (80, 90]       3.255985\n",
       "                  (90, 100]      3.730264\n",
       "                  (100, 102]          NaN\n",
       "(40000, 60000]    (10, 20]       3.829233\n",
       "                  (20, 30]       4.326662\n",
       "                  (30, 40]       4.541578\n",
       "                  (40, 50]       4.745538\n",
       "                  (50, 60]       4.838413\n",
       "                  (60, 70]       4.390813\n",
       "                  (70, 80]       4.589444\n",
       "                  (80, 90]       4.661869\n",
       "                  (90, 100]      4.126472\n",
       "                  (100, 102]     7.621228\n",
       "(60000, 80000]    (10, 20]       5.302296\n",
       "                  (20, 30]       5.393302\n",
       "                  (30, 40]       6.510612\n",
       "                  (40, 50]       6.603032\n",
       "                  (50, 60]       7.103768\n",
       "                  (60, 70]       7.292171\n",
       "                  (70, 80]       6.608635\n",
       "                  (80, 90]       7.679585\n",
       "                  (90, 100]      5.915913\n",
       "                  (100, 102]          NaN\n",
       "(80000, 100000]   (10, 20]            NaN\n",
       "                  (20, 30]            NaN\n",
       "                  (30, 40]      10.547676\n",
       "                  (40, 50]       9.886546\n",
       "                  (50, 60]       9.777868\n",
       "                  (60, 70]      10.331245\n",
       "                  (70, 80]      10.982500\n",
       "                  (80, 90]       9.840989\n",
       "                  (90, 100]     10.874112\n",
       "                  (100, 102]    10.817561\n",
       "(100000, 120000]  (10, 20]            NaN\n",
       "                  (20, 30]            NaN\n",
       "                  (30, 40]            NaN\n",
       "                  (40, 50]       9.455320\n",
       "                  (50, 60]      11.738760\n",
       "                  (60, 70]      11.232626\n",
       "                  (70, 80]      11.498862\n",
       "                  (80, 90]      11.968522\n",
       "                  (90, 100]     14.318851\n",
       "                  (100, 102]          NaN\n",
       "Name: amount, dtype: float64"
      ]
     },
     "execution_count": 40,
     "metadata": {},
     "output_type": "execute_result"
    }
   ],
   "source": [
    "#Check if income ranges \n",
    "\n",
    "df.groupby(['income_ranges','age_ranges'])['amount'].mean()"
   ]
  },
  {
   "cell_type": "code",
   "execution_count": 41,
   "metadata": {},
   "outputs": [
    {
     "data": {
      "text/plain": [
       "income_ranges     age_ranges\n",
       "(20000, 40000]    (10, 20]      0.071653\n",
       "                  (20, 30]      0.079644\n",
       "                  (30, 40]      0.084366\n",
       "                  (40, 50]      0.079844\n",
       "                  (50, 60]      0.076423\n",
       "                  (60, 70]      0.082160\n",
       "                  (70, 80]      0.090303\n",
       "                  (80, 90]      0.089298\n",
       "                  (90, 100]     0.111562\n",
       "                  (100, 102]         NaN\n",
       "(40000, 60000]    (10, 20]      0.083097\n",
       "                  (20, 30]      0.088797\n",
       "                  (30, 40]      0.099477\n",
       "                  (40, 50]      0.106029\n",
       "                  (50, 60]      0.105033\n",
       "                  (60, 70]      0.100633\n",
       "                  (70, 80]      0.102886\n",
       "                  (80, 90]      0.107196\n",
       "                  (90, 100]     0.098121\n",
       "                  (100, 102]    0.105263\n",
       "(60000, 80000]    (10, 20]      0.090859\n",
       "                  (20, 30]      0.098732\n",
       "                  (30, 40]      0.108303\n",
       "                  (40, 50]      0.122978\n",
       "                  (50, 60]      0.135242\n",
       "                  (60, 70]      0.134726\n",
       "                  (70, 80]      0.131333\n",
       "                  (80, 90]      0.131351\n",
       "                  (90, 100]     0.127273\n",
       "                  (100, 102]         NaN\n",
       "(80000, 100000]   (10, 20]           NaN\n",
       "                  (20, 30]           NaN\n",
       "                  (30, 40]      0.149308\n",
       "                  (40, 50]      0.155236\n",
       "                  (50, 60]      0.159461\n",
       "                  (60, 70]      0.162348\n",
       "                  (70, 80]      0.159883\n",
       "                  (80, 90]      0.159289\n",
       "                  (90, 100]     0.170441\n",
       "                  (100, 102]    0.146341\n",
       "(100000, 120000]  (10, 20]           NaN\n",
       "                  (20, 30]           NaN\n",
       "                  (30, 40]           NaN\n",
       "                  (40, 50]      0.176008\n",
       "                  (50, 60]      0.168771\n",
       "                  (60, 70]      0.175392\n",
       "                  (70, 80]      0.170588\n",
       "                  (80, 90]      0.165572\n",
       "                  (90, 100]     0.176039\n",
       "                  (100, 102]         NaN\n",
       "Name: offer completed, dtype: float64"
      ]
     },
     "execution_count": 41,
     "metadata": {},
     "output_type": "execute_result"
    }
   ],
   "source": [
    "#Check if income ranges affect offers at starbucks\n",
    "\n",
    "df.groupby(['income_ranges','age_ranges'])['offer completed'].mean()"
   ]
  },
  {
   "cell_type": "code",
   "execution_count": 42,
   "metadata": {},
   "outputs": [
    {
     "data": {
      "text/plain": [
       "income_ranges     age_ranges\n",
       "(20000, 40000]    (10, 20]      3.401151\n",
       "                  (20, 30]      3.540096\n",
       "                  (30, 40]      3.676458\n",
       "                  (40, 50]      3.673483\n",
       "                  (50, 60]      3.785379\n",
       "                  (60, 70]      3.601721\n",
       "                  (70, 80]      3.839394\n",
       "                  (80, 90]      3.420586\n",
       "                  (90, 100]     4.030426\n",
       "                  (100, 102]         NaN\n",
       "(40000, 60000]    (10, 20]      3.515980\n",
       "                  (20, 30]      3.726499\n",
       "                  (30, 40]      3.839432\n",
       "                  (40, 50]      4.149317\n",
       "                  (50, 60]      4.087054\n",
       "                  (60, 70]      4.049015\n",
       "                  (70, 80]      4.108684\n",
       "                  (80, 90]      4.019840\n",
       "                  (90, 100]     4.125261\n",
       "                  (100, 102]    3.070175\n",
       "(60000, 80000]    (10, 20]      3.762665\n",
       "                  (20, 30]      3.811037\n",
       "                  (30, 40]      3.940095\n",
       "                  (40, 50]      4.424666\n",
       "                  (50, 60]      4.581768\n",
       "                  (60, 70]      4.627179\n",
       "                  (70, 80]      4.603803\n",
       "                  (80, 90]      4.356556\n",
       "                  (90, 100]     4.756710\n",
       "                  (100, 102]         NaN\n",
       "(80000, 100000]   (10, 20]           NaN\n",
       "                  (20, 30]           NaN\n",
       "                  (30, 40]      5.117399\n",
       "                  (40, 50]      5.133906\n",
       "                  (50, 60]      5.095996\n",
       "                  (60, 70]      5.141901\n",
       "                  (70, 80]      4.956074\n",
       "                  (80, 90]      4.970154\n",
       "                  (90, 100]     4.914184\n",
       "                  (100, 102]    5.756098\n",
       "(100000, 120000]  (10, 20]           NaN\n",
       "                  (20, 30]           NaN\n",
       "                  (30, 40]           NaN\n",
       "                  (40, 50]      5.152409\n",
       "                  (50, 60]      5.011240\n",
       "                  (60, 70]      5.201566\n",
       "                  (70, 80]      5.070242\n",
       "                  (80, 90]      5.028909\n",
       "                  (90, 100]     4.826406\n",
       "                  (100, 102]         NaN\n",
       "Name: difficulty, dtype: float64"
      ]
     },
     "execution_count": 42,
     "metadata": {},
     "output_type": "execute_result"
    }
   ],
   "source": [
    "df.groupby(['income_ranges','age_ranges'])['difficulty'].mean()"
   ]
  },
  {
   "cell_type": "code",
   "execution_count": 43,
   "metadata": {},
   "outputs": [
    {
     "data": {
      "text/plain": [
       "income_ranges     age_ranges\n",
       "(20000, 40000]    (10, 20]      2.061715\n",
       "                  (20, 30]      2.042632\n",
       "                  (30, 40]      2.126827\n",
       "                  (40, 50]      2.171373\n",
       "                  (50, 60]      2.110006\n",
       "                  (60, 70]      2.075587\n",
       "                  (70, 80]      2.106667\n",
       "                  (80, 90]      1.966599\n",
       "                  (90, 100]     2.022312\n",
       "                  (100, 102]         NaN\n",
       "(40000, 60000]    (10, 20]      2.172585\n",
       "                  (20, 30]      2.096982\n",
       "                  (30, 40]      2.153771\n",
       "                  (40, 50]      2.330971\n",
       "                  (50, 60]      2.279023\n",
       "                  (60, 70]      2.283193\n",
       "                  (70, 80]      2.344795\n",
       "                  (80, 90]      2.327510\n",
       "                  (90, 100]     2.538622\n",
       "                  (100, 102]    0.824561\n",
       "(60000, 80000]    (10, 20]      2.178414\n",
       "                  (20, 30]      2.169086\n",
       "                  (30, 40]      2.192622\n",
       "                  (40, 50]      2.500671\n",
       "                  (50, 60]      2.524445\n",
       "                  (60, 70]      2.586398\n",
       "                  (70, 80]      2.603583\n",
       "                  (80, 90]      2.428001\n",
       "                  (90, 100]     2.647619\n",
       "                  (100, 102]         NaN\n",
       "(80000, 100000]   (10, 20]           NaN\n",
       "                  (20, 30]           NaN\n",
       "                  (30, 40]      2.669476\n",
       "                  (40, 50]      2.928011\n",
       "                  (50, 60]      2.884958\n",
       "                  (60, 70]      2.821351\n",
       "                  (70, 80]      2.749040\n",
       "                  (80, 90]      2.746144\n",
       "                  (90, 100]     2.785459\n",
       "                  (100, 102]    1.707317\n",
       "(100000, 120000]  (10, 20]           NaN\n",
       "                  (20, 30]           NaN\n",
       "                  (30, 40]           NaN\n",
       "                  (40, 50]      2.967552\n",
       "                  (50, 60]      2.767595\n",
       "                  (60, 70]      2.937964\n",
       "                  (70, 80]      2.818339\n",
       "                  (80, 90]      3.035480\n",
       "                  (90, 100]     3.134474\n",
       "                  (100, 102]         NaN\n",
       "Name: reward, dtype: float64"
      ]
     },
     "execution_count": 43,
     "metadata": {},
     "output_type": "execute_result"
    }
   ],
   "source": [
    "df.groupby(['income_ranges','age_ranges'])['reward'].mean()"
   ]
  },
  {
   "cell_type": "code",
   "execution_count": 44,
   "metadata": {},
   "outputs": [
    {
     "data": {
      "text/plain": [
       "income_ranges\n",
       "(20000, 40000]      0.205512\n",
       "(40000, 60000]      0.217434\n",
       "(60000, 80000]      0.236463\n",
       "(80000, 100000]     0.272657\n",
       "(100000, 120000]    0.278031\n",
       "Name: bogo, dtype: object"
      ]
     },
     "execution_count": 44,
     "metadata": {},
     "output_type": "execute_result"
    }
   ],
   "source": [
    "df.groupby(df['income_ranges'])['bogo'].mean()"
   ]
  },
  {
   "cell_type": "code",
   "execution_count": 45,
   "metadata": {},
   "outputs": [
    {
     "data": {
      "text/plain": [
       "income_ranges\n",
       "(20000, 40000]      0.194821\n",
       "(40000, 60000]      0.212628\n",
       "(60000, 80000]      0.234518\n",
       "(80000, 100000]     0.265851\n",
       "(100000, 120000]    0.265829\n",
       "Name: discount, dtype: object"
      ]
     },
     "execution_count": 45,
     "metadata": {},
     "output_type": "execute_result"
    }
   ],
   "source": [
    "df.groupby(df['income_ranges'])['discount'].mean()"
   ]
  },
  {
   "cell_type": "markdown",
   "metadata": {},
   "source": [
    "Not surprisingly, those with higher incomes spend more. They also get offers with higher minimum spending but get higher rewards too and are more likely to complete an offer. The type of discount does not vary much by income range. Age also has an influence on the likelihood on completing an offer. However, that relationship breaks down for those with high incomes."
   ]
  },
  {
   "cell_type": "code",
   "execution_count": 46,
   "metadata": {},
   "outputs": [
    {
     "data": {
      "text/plain": [
       "Text(0.5, 0, 'Age')"
      ]
     },
     "execution_count": 46,
     "metadata": {},
     "output_type": "execute_result"
    },
    {
     "data": {
      "image/png": "[encoded data removed]",
      "text/plain": [
       "<Figure size 640x480 with 1 Axes>"
      ]
     },
     "metadata": {},
     "output_type": "display_data"
    }
   ],
   "source": [
    "#Breakdown of customers who receive discounts\n",
    "df.loc[(df['bogo'] == 1),\"age\"].plot(kind='hist', bins=30, title='Receive bogo offers').set_xlabel(\"Age\")"
   ]
  },
  {
   "cell_type": "code",
   "execution_count": 47,
   "metadata": {},
   "outputs": [
    {
     "data": {
      "text/plain": [
       "Text(0.5, 0, 'Age')"
      ]
     },
     "execution_count": 47,
     "metadata": {},
     "output_type": "execute_result"
    },
    {
     "data": {
      "image/png": "[encoded data removed]",
      "text/plain": [
       "<Figure size 640x480 with 1 Axes>"
      ]
     },
     "metadata": {},
     "output_type": "display_data"
    }
   ],
   "source": [
    "df.loc[(df['bogo'] == 1),\"income\"].plot(kind='hist', bins=30, title='Receive bogo offers').set_xlabel(\"Age\")"
   ]
  },
  {
   "cell_type": "code",
   "execution_count": 48,
   "metadata": {},
   "outputs": [
    {
     "data": {
      "text/plain": [
       "Text(0.5, 0, 'Age')"
      ]
     },
     "execution_count": 48,
     "metadata": {},
     "output_type": "execute_result"
    },
    {
     "data": {
      "image/png": "[encoded data removed]",
      "text/plain": [
       "<Figure size 640x480 with 1 Axes>"
      ]
     },
     "metadata": {},
     "output_type": "display_data"
    }
   ],
   "source": [
    "df.loc[(df['discount'] == 1),\"age\"].plot(kind='hist', bins=30, title='Receive discount offers').set_xlabel(\"Age\")"
   ]
  },
  {
   "cell_type": "code",
   "execution_count": 49,
   "metadata": {},
   "outputs": [
    {
     "data": {
      "text/plain": [
       "Text(0.5, 0, 'Age')"
      ]
     },
     "execution_count": 49,
     "metadata": {},
     "output_type": "execute_result"
    },
    {
     "data": {
      "image/png": "[encoded data removed]",
      "text/plain": [
       "<Figure size 640x480 with 1 Axes>"
      ]
     },
     "metadata": {},
     "output_type": "display_data"
    }
   ],
   "source": [
    "df.loc[(df['discount'] == 1),\"income\"].plot(kind='hist', bins=30, title='Receive discount offers').set_xlabel(\"Age\")"
   ]
  },
  {
   "cell_type": "markdown",
   "metadata": {},
   "source": [
    "Doesn't appear to be a big deviation in demographics for offers compared to the average starbucks customer profile"
   ]
  },
  {
   "cell_type": "markdown",
   "metadata": {},
   "source": [
    "## Initial Summary of Findings:"
   ]
  },
  {
   "cell_type": "markdown",
   "metadata": {},
   "source": [
    "1. Higher income and age influence offer completion and spending amount.\n",
    "2. Duration of the offer influences offer completion rate\n",
    "3. Discounts had the greatest offer completion rate followed by bogo but had the lowest reward rate.\n",
    "4. Females complete offers more often than males and even though on average females spend much more than males, there is no distinction in offer targeting between male and female by age and income.\n",
    "\n",
    "From this, if we wanted to maximize the chance an offer is completed, it is best to target the highest spenders. That means targeting older females with the largest incomes using discount offers over bogo offers that have long durations. \n"
   ]
  },
  {
   "cell_type": "markdown",
   "metadata": {},
   "source": [
    "To better optimize offer completion and targeting, more work will need to be done to maximize the extra spend a customer makes by completing an offer."
   ]
  },
  {
   "cell_type": "markdown",
   "metadata": {},
   "source": [
    "## Build Model to predict likelihood of completing offer"
   ]
  },
  {
   "cell_type": "code",
   "execution_count": 50,
   "metadata": {},
   "outputs": [],
   "source": [
    "#Create data set for model. We want to predict features that best predict likelihood of completing offer\n",
    "gender = pd.get_dummies(df['gender'])\n",
    "df1 = pd.concat([df,gender],axis=1, sort=False)\n",
    "df_model = df1[df1['offer_id']!= 'None']\n",
    "Y = df_model['offer completed']\n",
    "df_model = df_model.drop(['amount','person', 'offer received', 'offer viewed','offer_type','offer_id','transaction','became_member_on','offer completed','gender','age_ranges','income_ranges'], axis=1)\n",
    "X = df_model"
   ]
  },
  {
   "cell_type": "code",
   "execution_count": null,
   "metadata": {},
   "outputs": [],
   "source": []
  },
  {
   "cell_type": "code",
   "execution_count": 51,
   "metadata": {},
   "outputs": [],
   "source": [
    "#Modeling\n",
    "\n",
    "from sklearn.model_selection import train_test_split\n",
    "\n",
    "# Split the 'features' and 'income' data into training and testing sets\n",
    "X_train, X_test, y_train, y_test = train_test_split(X, Y, test_size = 0.33, random_state = 42)"
   ]
  },
  {
   "cell_type": "code",
   "execution_count": 52,
   "metadata": {},
   "outputs": [
    {
     "data": {
      "text/html": [
       "<div>\n",
       "<style scoped>\n",
       "    .dataframe tbody tr th:only-of-type {\n",
       "        vertical-align: middle;\n",
       "    }\n",
       "\n",
       "    .dataframe tbody tr th {\n",
       "        vertical-align: top;\n",
       "    }\n",
       "\n",
       "    .dataframe thead th {\n",
       "        text-align: right;\n",
       "    }\n",
       "</style>\n",
       "<table border=\"1\" class=\"dataframe\">\n",
       "  <thead>\n",
       "    <tr style=\"text-align: right;\">\n",
       "      <th></th>\n",
       "      <th>time</th>\n",
       "      <th>reward</th>\n",
       "      <th>difficulty</th>\n",
       "      <th>duration</th>\n",
       "      <th>email</th>\n",
       "      <th>mobile</th>\n",
       "      <th>social</th>\n",
       "      <th>web</th>\n",
       "      <th>bogo</th>\n",
       "      <th>discount</th>\n",
       "      <th>informational</th>\n",
       "      <th>age</th>\n",
       "      <th>income</th>\n",
       "      <th>F</th>\n",
       "      <th>M</th>\n",
       "      <th>O</th>\n",
       "    </tr>\n",
       "  </thead>\n",
       "  <tbody>\n",
       "    <tr>\n",
       "      <th>252185</th>\n",
       "      <td>408</td>\n",
       "      <td>0.0</td>\n",
       "      <td>0.0</td>\n",
       "      <td>4.0</td>\n",
       "      <td>1.0</td>\n",
       "      <td>1.0</td>\n",
       "      <td>0.0</td>\n",
       "      <td>1.0</td>\n",
       "      <td>False</td>\n",
       "      <td>False</td>\n",
       "      <td>True</td>\n",
       "      <td>56</td>\n",
       "      <td>60000.0</td>\n",
       "      <td>True</td>\n",
       "      <td>False</td>\n",
       "      <td>False</td>\n",
       "    </tr>\n",
       "    <tr>\n",
       "      <th>96154</th>\n",
       "      <td>336</td>\n",
       "      <td>0.0</td>\n",
       "      <td>0.0</td>\n",
       "      <td>3.0</td>\n",
       "      <td>1.0</td>\n",
       "      <td>1.0</td>\n",
       "      <td>1.0</td>\n",
       "      <td>0.0</td>\n",
       "      <td>False</td>\n",
       "      <td>False</td>\n",
       "      <td>True</td>\n",
       "      <td>53</td>\n",
       "      <td>96000.0</td>\n",
       "      <td>True</td>\n",
       "      <td>False</td>\n",
       "      <td>False</td>\n",
       "    </tr>\n",
       "    <tr>\n",
       "      <th>144290</th>\n",
       "      <td>336</td>\n",
       "      <td>5.0</td>\n",
       "      <td>5.0</td>\n",
       "      <td>7.0</td>\n",
       "      <td>1.0</td>\n",
       "      <td>1.0</td>\n",
       "      <td>0.0</td>\n",
       "      <td>1.0</td>\n",
       "      <td>True</td>\n",
       "      <td>False</td>\n",
       "      <td>False</td>\n",
       "      <td>39</td>\n",
       "      <td>35000.0</td>\n",
       "      <td>True</td>\n",
       "      <td>False</td>\n",
       "      <td>False</td>\n",
       "    </tr>\n",
       "    <tr>\n",
       "      <th>121709</th>\n",
       "      <td>174</td>\n",
       "      <td>5.0</td>\n",
       "      <td>5.0</td>\n",
       "      <td>5.0</td>\n",
       "      <td>1.0</td>\n",
       "      <td>1.0</td>\n",
       "      <td>1.0</td>\n",
       "      <td>1.0</td>\n",
       "      <td>True</td>\n",
       "      <td>False</td>\n",
       "      <td>False</td>\n",
       "      <td>38</td>\n",
       "      <td>87000.0</td>\n",
       "      <td>True</td>\n",
       "      <td>False</td>\n",
       "      <td>False</td>\n",
       "    </tr>\n",
       "    <tr>\n",
       "      <th>27666</th>\n",
       "      <td>336</td>\n",
       "      <td>10.0</td>\n",
       "      <td>10.0</td>\n",
       "      <td>5.0</td>\n",
       "      <td>1.0</td>\n",
       "      <td>1.0</td>\n",
       "      <td>1.0</td>\n",
       "      <td>1.0</td>\n",
       "      <td>True</td>\n",
       "      <td>False</td>\n",
       "      <td>False</td>\n",
       "      <td>50</td>\n",
       "      <td>71000.0</td>\n",
       "      <td>False</td>\n",
       "      <td>True</td>\n",
       "      <td>False</td>\n",
       "    </tr>\n",
       "    <tr>\n",
       "      <th>...</th>\n",
       "      <td>...</td>\n",
       "      <td>...</td>\n",
       "      <td>...</td>\n",
       "      <td>...</td>\n",
       "      <td>...</td>\n",
       "      <td>...</td>\n",
       "      <td>...</td>\n",
       "      <td>...</td>\n",
       "      <td>...</td>\n",
       "      <td>...</td>\n",
       "      <td>...</td>\n",
       "      <td>...</td>\n",
       "      <td>...</td>\n",
       "      <td>...</td>\n",
       "      <td>...</td>\n",
       "      <td>...</td>\n",
       "    </tr>\n",
       "    <tr>\n",
       "      <th>218653</th>\n",
       "      <td>414</td>\n",
       "      <td>3.0</td>\n",
       "      <td>7.0</td>\n",
       "      <td>7.0</td>\n",
       "      <td>1.0</td>\n",
       "      <td>1.0</td>\n",
       "      <td>1.0</td>\n",
       "      <td>1.0</td>\n",
       "      <td>False</td>\n",
       "      <td>True</td>\n",
       "      <td>False</td>\n",
       "      <td>70</td>\n",
       "      <td>69000.0</td>\n",
       "      <td>False</td>\n",
       "      <td>True</td>\n",
       "      <td>False</td>\n",
       "    </tr>\n",
       "    <tr>\n",
       "      <th>188093</th>\n",
       "      <td>174</td>\n",
       "      <td>0.0</td>\n",
       "      <td>0.0</td>\n",
       "      <td>4.0</td>\n",
       "      <td>1.0</td>\n",
       "      <td>1.0</td>\n",
       "      <td>0.0</td>\n",
       "      <td>1.0</td>\n",
       "      <td>False</td>\n",
       "      <td>False</td>\n",
       "      <td>True</td>\n",
       "      <td>56</td>\n",
       "      <td>59000.0</td>\n",
       "      <td>True</td>\n",
       "      <td>False</td>\n",
       "      <td>False</td>\n",
       "    </tr>\n",
       "    <tr>\n",
       "      <th>243308</th>\n",
       "      <td>504</td>\n",
       "      <td>5.0</td>\n",
       "      <td>5.0</td>\n",
       "      <td>7.0</td>\n",
       "      <td>1.0</td>\n",
       "      <td>1.0</td>\n",
       "      <td>0.0</td>\n",
       "      <td>1.0</td>\n",
       "      <td>True</td>\n",
       "      <td>False</td>\n",
       "      <td>False</td>\n",
       "      <td>66</td>\n",
       "      <td>55000.0</td>\n",
       "      <td>False</td>\n",
       "      <td>True</td>\n",
       "      <td>False</td>\n",
       "    </tr>\n",
       "    <tr>\n",
       "      <th>269501</th>\n",
       "      <td>504</td>\n",
       "      <td>3.0</td>\n",
       "      <td>7.0</td>\n",
       "      <td>7.0</td>\n",
       "      <td>1.0</td>\n",
       "      <td>1.0</td>\n",
       "      <td>1.0</td>\n",
       "      <td>1.0</td>\n",
       "      <td>False</td>\n",
       "      <td>True</td>\n",
       "      <td>False</td>\n",
       "      <td>49</td>\n",
       "      <td>56000.0</td>\n",
       "      <td>False</td>\n",
       "      <td>False</td>\n",
       "      <td>True</td>\n",
       "    </tr>\n",
       "    <tr>\n",
       "      <th>223071</th>\n",
       "      <td>678</td>\n",
       "      <td>2.0</td>\n",
       "      <td>10.0</td>\n",
       "      <td>10.0</td>\n",
       "      <td>1.0</td>\n",
       "      <td>1.0</td>\n",
       "      <td>1.0</td>\n",
       "      <td>1.0</td>\n",
       "      <td>False</td>\n",
       "      <td>True</td>\n",
       "      <td>False</td>\n",
       "      <td>74</td>\n",
       "      <td>55000.0</td>\n",
       "      <td>False</td>\n",
       "      <td>True</td>\n",
       "      <td>False</td>\n",
       "    </tr>\n",
       "  </tbody>\n",
       "</table>\n",
       "<p>99699 rows × 16 columns</p>\n",
       "</div>"
      ],
      "text/plain": [
       "        time  reward  difficulty  duration  email  mobile  social  web   bogo   \n",
       "252185   408     0.0         0.0       4.0    1.0     1.0     0.0  1.0  False  \\\n",
       "96154    336     0.0         0.0       3.0    1.0     1.0     1.0  0.0  False   \n",
       "144290   336     5.0         5.0       7.0    1.0     1.0     0.0  1.0   True   \n",
       "121709   174     5.0         5.0       5.0    1.0     1.0     1.0  1.0   True   \n",
       "27666    336    10.0        10.0       5.0    1.0     1.0     1.0  1.0   True   \n",
       "...      ...     ...         ...       ...    ...     ...     ...  ...    ...   \n",
       "218653   414     3.0         7.0       7.0    1.0     1.0     1.0  1.0  False   \n",
       "188093   174     0.0         0.0       4.0    1.0     1.0     0.0  1.0  False   \n",
       "243308   504     5.0         5.0       7.0    1.0     1.0     0.0  1.0   True   \n",
       "269501   504     3.0         7.0       7.0    1.0     1.0     1.0  1.0  False   \n",
       "223071   678     2.0        10.0      10.0    1.0     1.0     1.0  1.0  False   \n",
       "\n",
       "       discount informational  age   income      F      M      O  \n",
       "252185    False          True   56  60000.0   True  False  False  \n",
       "96154     False          True   53  96000.0   True  False  False  \n",
       "144290    False         False   39  35000.0   True  False  False  \n",
       "121709    False         False   38  87000.0   True  False  False  \n",
       "27666     False         False   50  71000.0  False   True  False  \n",
       "...         ...           ...  ...      ...    ...    ...    ...  \n",
       "218653     True         False   70  69000.0  False   True  False  \n",
       "188093    False          True   56  59000.0   True  False  False  \n",
       "243308    False         False   66  55000.0  False   True  False  \n",
       "269501     True         False   49  56000.0  False  False   True  \n",
       "223071     True         False   74  55000.0  False   True  False  \n",
       "\n",
       "[99699 rows x 16 columns]"
      ]
     },
     "execution_count": 52,
     "metadata": {},
     "output_type": "execute_result"
    }
   ],
   "source": [
    "X_train"
   ]
  },
  {
   "cell_type": "markdown",
   "metadata": {},
   "source": [
    "#### Building a Random Forest Classifier Predictive Model"
   ]
  },
  {
   "cell_type": "code",
   "execution_count": 53,
   "metadata": {},
   "outputs": [],
   "source": [
    "from sklearn import model_selection\n",
    "from sklearn.ensemble import RandomForestClassifier\n",
    "import pickle\n",
    "# random forest model creation\n",
    "classifier = RandomForestClassifier()\n",
    "#Train the model\n",
    "clf_model = classifier.fit(X_train,y_train)\n",
    "\n",
    "# save\n",
    "with open('first_model.pkl','wb') as f:\n",
    "    pickle.dump(clf_model,f)\n",
    "    \n",
    "# predictions\n",
    "y_pred = clf_model.predict(X_test)\n"
   ]
  },
  {
   "cell_type": "code",
   "execution_count": 54,
   "metadata": {},
   "outputs": [
    {
     "name": "stdout",
     "output_type": "stream",
     "text": [
      "[[34257  4115]\n",
      " [ 7748  2986]]\n",
      "0.7584205596057508\n",
      "              precision    recall  f1-score   support\n",
      "\n",
      "       False       0.82      0.89      0.85     38372\n",
      "        True       0.42      0.28      0.33     10734\n",
      "\n",
      "    accuracy                           0.76     49106\n",
      "   macro avg       0.62      0.59      0.59     49106\n",
      "weighted avg       0.73      0.76      0.74     49106\n",
      "\n"
     ]
    }
   ],
   "source": [
    "from sklearn.model_selection import cross_val_score\n",
    "from sklearn.metrics import classification_report, accuracy_score, confusion_matrix, precision_score, recall_score, roc_auc_score, roc_curve, f1_score, ConfusionMatrixDisplay, RocCurveDisplay\n",
    "print(confusion_matrix(y_test, y_pred))\n",
    "print(accuracy_score(y_test,y_pred))\n",
    "acc_1 = accuracy_score(y_test,y_pred)\n",
    "print(classification_report(y_test, y_pred))"
   ]
  },
  {
   "cell_type": "code",
   "execution_count": 55,
   "metadata": {},
   "outputs": [
    {
     "data": {
      "image/png": "[encoded data removed]",
      "text/plain": [
       "<Figure size 640x480 with 1 Axes>"
      ]
     },
     "metadata": {},
     "output_type": "display_data"
    }
   ],
   "source": [
    "from sklearn_evaluation import plot\n",
    "\n",
    "# Visualize classification report\n",
    "target_names = [\"False\", \"True\"]\n",
    "cr_1 = plot.ClassificationReport.from_raw_data(\n",
    "    y_test, y_pred, target_names=target_names\n",
    ")"
   ]
  },
  {
   "cell_type": "code",
   "execution_count": 56,
   "metadata": {},
   "outputs": [
    {
     "data": {
      "image/png": "[encoded data removed]",
      "text/plain": [
       "<Figure size 640x480 with 2 Axes>"
      ]
     },
     "metadata": {},
     "output_type": "display_data"
    }
   ],
   "source": [
    "cm = confusion_matrix(y_test, y_pred, labels=clf_model.classes_)\n",
    "disp = ConfusionMatrixDisplay(confusion_matrix=cm, display_labels=clf_model.classes_)\n",
    "disp.plot()\n",
    "plt.show()"
   ]
  },
  {
   "cell_type": "code",
   "execution_count": 57,
   "metadata": {},
   "outputs": [
    {
     "data": {
      "image/png": "[encoded data removed]",
      "text/plain": [
       "<Figure size 640x480 with 1 Axes>"
      ]
     },
     "metadata": {},
     "output_type": "display_data"
    }
   ],
   "source": [
    "RocCurveDisplay.from_estimator(clf_model, X_test, y_test)\n",
    "plt.show()"
   ]
  },
  {
   "cell_type": "code",
   "execution_count": null,
   "metadata": {},
   "outputs": [],
   "source": []
  },
  {
   "cell_type": "code",
   "execution_count": 58,
   "metadata": {},
   "outputs": [
    {
     "data": {
      "image/png": "[encoded data removed]",
      "text/plain": [
       "<Figure size 640x480 with 1 Axes>"
      ]
     },
     "metadata": {},
     "output_type": "display_data"
    },
    {
     "name": "stdout",
     "output_type": "stream",
     "text": [
      "time             0.510757\n",
      "reward           0.015403\n",
      "difficulty       0.018207\n",
      "duration         0.012001\n",
      "email            0.000000\n",
      "mobile           0.000428\n",
      "social           0.001985\n",
      "web              0.001358\n",
      "bogo             0.001412\n",
      "discount         0.001991\n",
      "informational    0.011752\n",
      "age              0.219576\n",
      "income           0.199423\n",
      "F                0.002182\n",
      "M                0.002668\n",
      "O                0.000856\n",
      "dtype: float64\n"
     ]
    }
   ],
   "source": [
    "#Show the most important features\n",
    "feat_importances = pd.Series(classifier.feature_importances_, index=df_model.columns)\n",
    "feat_importances.nlargest(16).plot(kind='barh')\n",
    "plt.title(\"Feature Importance\")\n",
    "plt.show()\n",
    "\n",
    "print(feat_importances)"
   ]
  },
  {
   "cell_type": "markdown",
   "metadata": {},
   "source": [
    "The model predicts with an accuracy of 75.8% and the most important features are time, age, and income. This validates my initial findings during my exploratory data analysis."
   ]
  },
  {
   "cell_type": "code",
   "execution_count": 59,
   "metadata": {},
   "outputs": [],
   "source": [
    "#Improve the model with hyperparameter tuning and cross validation\n",
    "import warnings\n",
    "warnings.filterwarnings('ignore') \n",
    "from sklearn.model_selection import GridSearchCV\n",
    "from sklearn.metrics import precision_score\n",
    "from sklearn.metrics import make_scorer\n",
    "scorer = make_scorer(precision_score) #use precision_score for classification\n",
    "param_grid = {'max_features':['auto', 'sqrt'], \n",
    "              'min_samples_leaf':[2,4,6,8,10],\n",
    "              'min_samples_split':[2,4,6,8,10]} \n",
    "grid = GridSearchCV(classifier, param_grid, cv=3, scoring=scorer)\n",
    "grid_fit = grid.fit(X_train, y_train)\n",
    "\n",
    "# save\n",
    "with open('second_model.pkl','wb') as f:\n",
    "    pickle.dump(grid_fit,f)\n",
    "\n",
    "y_pred_2 = grid_fit.predict(X_test)"
   ]
  },
  {
   "cell_type": "code",
   "execution_count": 60,
   "metadata": {},
   "outputs": [
    {
     "name": "stdout",
     "output_type": "stream",
     "text": [
      "{'max_features': 'auto', 'min_samples_leaf': 10, 'min_samples_split': 8}\n",
      "[[37003  1369]\n",
      " [ 8527  2207]]\n",
      "0.7984767645501568\n",
      "              precision    recall  f1-score   support\n",
      "\n",
      "       False       0.81      0.96      0.88     38372\n",
      "        True       0.62      0.21      0.31     10734\n",
      "\n",
      "    accuracy                           0.80     49106\n",
      "   macro avg       0.71      0.58      0.60     49106\n",
      "weighted avg       0.77      0.80      0.76     49106\n",
      "\n"
     ]
    }
   ],
   "source": [
    "#Check model performance of optimized model\n",
    "print(grid_fit.best_params_)\n",
    "print(confusion_matrix(y_test, y_pred_2))\n",
    "acc_2 = accuracy_score(y_test,y_pred_2)\n",
    "print(accuracy_score(y_test,y_pred_2))\n",
    "print(classification_report(y_test, y_pred_2))"
   ]
  },
  {
   "cell_type": "code",
   "execution_count": 61,
   "metadata": {},
   "outputs": [
    {
     "data": {
      "image/png": "[encoded data removed]",
      "text/plain": [
       "<Figure size 640x480 with 1 Axes>"
      ]
     },
     "metadata": {},
     "output_type": "display_data"
    }
   ],
   "source": [
    "# Visualize classification report\n",
    "target_names = [\"False\", \"True\"]\n",
    "cr_2 = plot.ClassificationReport.from_raw_data(\n",
    "    y_test, y_pred_2, target_names=target_names\n",
    ")"
   ]
  },
  {
   "cell_type": "code",
   "execution_count": 62,
   "metadata": {},
   "outputs": [
    {
     "data": {
      "image/png": "[encoded data removed]",
      "text/plain": [
       "<Figure size 640x480 with 2 Axes>"
      ]
     },
     "metadata": {},
     "output_type": "display_data"
    }
   ],
   "source": [
    "cm = confusion_matrix(y_test, y_pred_2, labels=grid_fit.classes_)\n",
    "disp = ConfusionMatrixDisplay(confusion_matrix=cm, display_labels=grid_fit.classes_)\n",
    "disp.plot()\n",
    "plt.show()"
   ]
  },
  {
   "cell_type": "code",
   "execution_count": 63,
   "metadata": {},
   "outputs": [
    {
     "data": {
      "image/png": "[encoded data removed]",
      "text/plain": [
       "<Figure size 640x480 with 1 Axes>"
      ]
     },
     "metadata": {},
     "output_type": "display_data"
    }
   ],
   "source": [
    "RocCurveDisplay.from_estimator(grid_fit, X_test, y_test)\n",
    "plt.show()"
   ]
  },
  {
   "cell_type": "code",
   "execution_count": null,
   "metadata": {},
   "outputs": [],
   "source": []
  },
  {
   "cell_type": "code",
   "execution_count": 64,
   "metadata": {},
   "outputs": [
    {
     "data": {
      "text/plain": [
       "<sklearn_evaluation.plot.classification_report.ClassificationReportAdd at 0x7f6246bfe800>"
      ]
     },
     "execution_count": 64,
     "metadata": {},
     "output_type": "execute_result"
    },
    {
     "data": {
      "image/png": "[encoded data removed]",
      "text/plain": [
       "<Figure size 640x480 with 1 Axes>"
      ]
     },
     "metadata": {},
     "output_type": "display_data"
    }
   ],
   "source": [
    "# Compare result between 2 models\n",
    "cr_1 + cr_2"
   ]
  },
  {
   "cell_type": "code",
   "execution_count": null,
   "metadata": {},
   "outputs": [],
   "source": []
  },
  {
   "cell_type": "code",
   "execution_count": 65,
   "metadata": {},
   "outputs": [
    {
     "data": {
      "image/png": "[encoded data removed]",
      "text/plain": [
       "<Figure size 640x480 with 1 Axes>"
      ]
     },
     "metadata": {},
     "output_type": "display_data"
    }
   ],
   "source": [
    "# Generate dummy data into a dataframe\n",
    "j = {\n",
    "    \"first_model\": [acc_1],\n",
    "    \"second_model\": [acc_2]\n",
    "}\n",
    "df = pd.DataFrame.from_dict(j)\n",
    "\n",
    "fig, ax = plt.subplots()\n",
    "true_bar = ax.bar(\"first_model\", round(df[\"first_model\"]*100, 2))\n",
    "\n",
    "false_bar = ax.bar(\"second_model\", round(df[\"second_model\"]*100, 2))\n",
    "\n",
    "ax.set_xlabel('model')\n",
    "ax.set_ylabel('Accuracy')\n",
    "ax.set_title('Accuracy comparision')\n",
    "plt.ylim(0,100)\n",
    "for container in ax.containers:\n",
    "    ax.bar_label(container)\n",
    "plt.show()"
   ]
  },
  {
   "cell_type": "markdown",
   "metadata": {},
   "source": [
    "Optimizing the model hyperparameters improves the model accuracy to 79.8% versus 75.8%"
   ]
  },
  {
   "cell_type": "markdown",
   "metadata": {},
   "source": [
    "## Conclusion"
   ]
  },
  {
   "cell_type": "markdown",
   "metadata": {},
   "source": [
    "Duration of offer, income of customer and age of customer are the biggest predictors of whether a customer completes an offer. The customer gender and the distribution method of the offer do not have any predictive power of whether a customer completes an offer.\n",
    "\n",
    "From this, if we wanted to maximize the chance an offer is completed, it is best to target those with the largest incomes and older ages with offer durations that last a long time. \n",
    "\n",
    "To better optimize offer completion and targeting, more work will need to be done to maximize the extra spend a customer makes by completing an offer."
   ]
  }
 ],
 "metadata": {
  "kernelspec": {
   "display_name": "Python 3",
   "language": "python",
   "name": "python3"
  },
  "language_info": {
   "codemirror_mode": {
    "name": "ipython",
    "version": 3
   },
   "file_extension": ".py",
   "mimetype": "text/x-python",
   "name": "python",
   "nbconvert_exporter": "python",
   "pygments_lexer": "ipython3",
   "version": "3.10.8"
  }
 },
 "nbformat": 4,
 "nbformat_minor": 2
}
